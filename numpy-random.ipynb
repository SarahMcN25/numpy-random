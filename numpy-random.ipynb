{
 "cells": [
  {
   "cell_type": "markdown",
   "id": "6c727150",
   "metadata": {},
   "source": [
    "<img src=https://upload.wikimedia.org/wikipedia/commons/thumb/3/31/NumPy_logo_2020.svg/2560px-NumPy_logo_2020.svg.png width=\"500\">"
   ]
  },
  {
   "cell_type": "markdown",
   "id": "7578c1d6",
   "metadata": {},
   "source": [
    "# The NumPy Random Package\n",
    "\n",
    "\n",
    "[Official documentation](https://numpy.org/doc/stable/reference/random/index.html)\n",
    "\n",
    "***"
   ]
  },
  {
   "cell_type": "markdown",
   "id": "4d9e2451",
   "metadata": {},
   "source": [
    "numpy package changed. see quick start guide\n",
    "\n",
    "https://numpy.org/doc/stable/reference/random/index.html#random-quick-start"
   ]
  },
  {
   "cell_type": "markdown",
   "id": "d07d7429",
   "metadata": {},
   "source": [
    "## What is NumPy?\n",
    "\n",
    "[Numpy](https://numpy.org/doc/stable/user/whatisnumpy.htm) is an open source python library used for working with arrays. [Numpy arrays](https://towardsdatascience.com/tagged/arrays) are powerful objects that are often used as a base data structure when analysing data. \n",
    "\n",
    "[Numpy](https://numpy.org/doc/stable/user/whatisnumpy.html) gives data analysts a faster way of performing various operations on multidimensional arrays including including mathematical, logical, shape manipulation, sorting, selecting, I/O, discrete Fourier transforms, basic linear algebra, basic statistical operations and random simulation.\n",
    "\n",
    "<br>"
   ]
  },
  {
   "cell_type": "markdown",
   "id": "df21e6dd",
   "metadata": {},
   "source": [
    "## The Purpose of NumPy Random\n",
    "\n",
    "There is a module in numpy called [random](https://numpy.org/doc/stable/reference/random/index.html). The purpose of the numpy.random module is to generate random numbers for sampling and testing. \n",
    "\n",
    "The [Numpy.random](https://www.javatpoint.com/numpy-random) module contains the following:\n",
    "\n",
    "1. Simple random data generation methods\n",
    "2. Permutation  functions \n",
    "3. Distribution functions\n",
    "4. Random generator functions\n",
    "\n",
    "<br>"
   ]
  },
  {
   "cell_type": "markdown",
   "id": "f1a8a762",
   "metadata": {},
   "source": [
    "## Importing packages\n",
    "\n",
    "***\n",
    "\n",
    "First step: Import the numpy and the matplotlib.pyplot libraries in order to create and visualise examples of how the NumPy Random packages works. "
   ]
  },
  {
   "cell_type": "code",
   "execution_count": 1,
   "id": "b1cc6185",
   "metadata": {},
   "outputs": [],
   "source": [
    "# numpy package used for efficent numerical arrays\n",
    "import numpy as np\n",
    "\n",
    "# importing for plotting data\n",
    "import matplotlib.pyplot as plt"
   ]
  },
  {
   "cell_type": "code",
   "execution_count": 2,
   "id": "aa24e8a1",
   "metadata": {},
   "outputs": [],
   "source": [
    "# Do this (new version)\n",
    "from numpy.random import default_rng\n",
    "rng = default_rng()\n",
    "vals = rng.standard_normal(10)\n",
    "more_vals = rng.standard_normal(10)"
   ]
  },
  {
   "cell_type": "markdown",
   "id": "e7fc368b",
   "metadata": {},
   "source": [
    "<br>\n",
    "\n",
    "## Simple Random Data\n",
    "\n",
    "There are 4 different methods of generating simple random data:\n",
    "\n",
    "1. random integers\n",
    "2. random random\n",
    "3. random choice\n",
    "4. random bytes"
   ]
  },
  {
   "cell_type": "markdown",
   "id": "c7aa4f83",
   "metadata": {},
   "source": [
    "### 1.  [Random integers method](https://numpy.org/doc/stable/reference/random/generated/numpy.random.Generator.integers.html#numpy.random.Generator.integers) \n",
    "\n",
    "This method returns random integers in an array using a number of parameters: \n",
    "\n",
    "- Firstly, the lowest value that can be selected must be set. This integer is inclusive.\n",
    "\n",
    "\n",
    "- Next the hightest value must be set. This value is exclusive. For example a high value of 7 could return any value up until but not including 7 . \n",
    "\n",
    "\n",
    "- If a high value is not selected then the default for the lowest value kicks in and the value selected would be treated as the highest parameter for that array. \n",
    "\n",
    "\n",
    "- The default size value reuturns 1 integer unless a specific size is set. \n",
    "\n",
    "\n",
    "- dtype is the describes the data type returned. The default value for this is np.int64 unless otherwise specified. \n",
    "\n",
    "\n",
    "- Finally, the parameter endpoint can be used. This uses a boolean when if true it returns a sample from the interval low, high inclusive of both those values. The dafault for this is set at false. "
   ]
  },
  {
   "cell_type": "code",
   "execution_count": 3,
   "id": "ce20f5df",
   "metadata": {},
   "outputs": [
    {
     "data": {
      "text/plain": [
       "array([7, 5, 2, 5, 2, 5, 4, 2, 5, 7], dtype=int64)"
      ]
     },
     "execution_count": 3,
     "metadata": {},
     "output_type": "execute_result"
    }
   ],
   "source": [
    "# EXAMPLE 1\n",
    "\n",
    "# Set lowest value inclusive at 2\n",
    "# Set the highest value at 7\n",
    "# Set the return array size to 10\n",
    "# Set endpoint to true so that it could include the highest value\n",
    "\n",
    "rng.integers(2, 7, size=10, endpoint=True)"
   ]
  },
  {
   "cell_type": "code",
   "execution_count": 4,
   "id": "3ce486c9",
   "metadata": {},
   "outputs": [
    {
     "data": {
      "text/plain": [
       "array([59, 76, 49, 77, 80], dtype=int64)"
      ]
     },
     "execution_count": 4,
     "metadata": {},
     "output_type": "execute_result"
    }
   ],
   "source": [
    "# EXAMPLE 2\n",
    "\n",
    "# Lowest value defaults to 0\n",
    "# Highest value set to 100 (exclusive)\n",
    "# Size of array to return = 5\n",
    "rng.integers(100, size=5)"
   ]
  },
  {
   "cell_type": "code",
   "execution_count": 5,
   "id": "0ec0d5c7",
   "metadata": {},
   "outputs": [
    {
     "data": {
      "text/plain": [
       "258"
      ]
     },
     "execution_count": 5,
     "metadata": {},
     "output_type": "execute_result"
    }
   ],
   "source": [
    "# EXAMPLE 3 \n",
    "\n",
    "# Set low and highest values \n",
    "# No size selected so defaults to return 1 value\n",
    "rng.integers(50, 1000)"
   ]
  },
  {
   "cell_type": "markdown",
   "id": "d3709702",
   "metadata": {},
   "source": [
    "<br>\n",
    "\n",
    "### 2. [Random random method](https://numpy.org/doc/stable/reference/random/generated/numpy.random.Generator.random.html#numpy.random.Generator.random)\n",
    "\n",
    "This method generates random floats in an array with the option of using 3 parameters:\n",
    "\n",
    "- First the size and output shape can be set. The first value relfects the number of lines that are returned. The second value determines how many floats to return in each line. If the size it none then it will default to return 1 random float. \n",
    "\n",
    "\n",
    "- Next the dtype can be set. The default value is np.float64.\n",
    "\n",
    "\n",
    "- Finally the output can be changed. It must bear the same shape as specified in size if applicable and it must also match the type of output values. This is known as an ndarray which gives an alternative output array in whcih to place the result. "
   ]
  },
  {
   "cell_type": "code",
   "execution_count": 6,
   "id": "1fa9350c",
   "metadata": {},
   "outputs": [
    {
     "data": {
      "text/plain": [
       "0.3029351346014926"
      ]
     },
     "execution_count": 6,
     "metadata": {},
     "output_type": "execute_result"
    }
   ],
   "source": [
    "# EXAMPLE 1\n",
    "\n",
    "# Returns one random float. \n",
    "rng.random() "
   ]
  },
  {
   "cell_type": "code",
   "execution_count": 7,
   "id": "012954be",
   "metadata": {},
   "outputs": [
    {
     "data": {
      "text/plain": [
       "array([[0.31150423, 0.35164533, 0.16965306],\n",
       "       [0.68905483, 0.88066914, 0.74138571],\n",
       "       [0.30266037, 0.30955195, 0.34167684],\n",
       "       [0.568234  , 0.01495081, 0.91385778]])"
      ]
     },
     "execution_count": 7,
     "metadata": {},
     "output_type": "execute_result"
    }
   ],
   "source": [
    "# EXAMPLE 2\n",
    "\n",
    "# Returns 4 lines contain 3 random floats in each\n",
    "rng.random((4, 3)) "
   ]
  },
  {
   "cell_type": "code",
   "execution_count": 8,
   "id": "213e0c13",
   "metadata": {},
   "outputs": [
    {
     "data": {
      "text/plain": [
       "array([[2.87035982, 2.85311868, 4.12323408],\n",
       "       [3.91409201, 2.69971022, 1.33024052],\n",
       "       [0.15760866, 1.72690885, 5.36030474],\n",
       "       [3.96974324, 1.07498333, 2.79940003]])"
      ]
     },
     "execution_count": 8,
     "metadata": {},
     "output_type": "execute_result"
    }
   ],
   "source": [
    "# EXAMPLE 3\n",
    "\n",
    "# Changing the output by multipluing each random float by 6 \n",
    "6 * rng.random((4, 3)) "
   ]
  },
  {
   "cell_type": "markdown",
   "id": "9a3e58f2",
   "metadata": {},
   "source": [
    "<br>\n",
    "\n",
    "### 3. [Random choice method](https://numpy.org/doc/stable/reference/random/generated/numpy.random.Generator.choice.html#numpy.random.Generator.choice)\n",
    "\n",
    "The random choice method allows us to choose random integers from a given 1 dimensional array. Parameters include the following:\n",
    "\n",
    "- a {array_like, int}: The \"a\" parameter will select a random sample from an ndarray. In other words if multiple arrays are passed into this argument then it will return a random sample of arrays. If an integer is passed into the choice argument then similar to the np.arrage function it will return a random sample within a given intervel. \n",
    "\n",
    "\n",
    "- The size of the output shape is determined here. The same shape will be returned unless the a has more than 1 dimension in which case a size must be specified. The default is none so a single value is returned. \n",
    "\n",
    "\n",
    "- Replace is a boolean option which if true means that \"a\" can be used multiple times.\n",
    "\n",
    "\n",
    "- p: refers to the probabilities relating to each entry in \"a\". If not otherwise specified the random sample assumes a uniform distribution over all entries in \"a\".\n",
    "\n",
    "\n",
    "- The axis parameter defaults to 0 when selecting by row. It selects the axis which the random selection should be performed. \n",
    "\n",
    "\n",
    "- Shuffle is also a boolean option. It determines whether the sample is shuffled when sampling without replacement. The default is true. False provides a speedup."
   ]
  },
  {
   "cell_type": "code",
   "execution_count": 9,
   "id": "1cd4019d",
   "metadata": {},
   "outputs": [],
   "source": [
    "# EXAMPLE 1\n",
    "\n",
    "# This is random selection of integers from 0 up to but not including 5\n",
    "# 3 asks it to selcet 3 random choices. \n",
    "\n",
    "# uniform sampling\n",
    "x = rng.choice(4, 3)\n",
    "\n",
    "# non-uniform sampling by giving probabilities \n",
    "y = rng.choice(4, 3, p=[0.1, 0, 0.3, 0.6])\n",
    "\n",
    "# This could also be done by using the random.integers format: np.random.integers(0, 4, 3)"
   ]
  },
  {
   "cell_type": "code",
   "execution_count": 10,
   "id": "b14170a2",
   "metadata": {},
   "outputs": [
    {
     "data": {
      "text/plain": [
       "(array([0, 2, 1], dtype=int64), array([3, 0, 3], dtype=int64))"
      ]
     },
     "execution_count": 10,
     "metadata": {},
     "output_type": "execute_result"
    }
   ],
   "source": [
    "x, y"
   ]
  },
  {
   "cell_type": "code",
   "execution_count": 11,
   "id": "542c70c4",
   "metadata": {},
   "outputs": [
    {
     "data": {
      "text/plain": [
       "269"
      ]
     },
     "execution_count": 11,
     "metadata": {},
     "output_type": "execute_result"
    }
   ],
   "source": [
    "# EXAMPLE 2\n",
    "\n",
    "# Selects a random integer from 0 up to but not including 5000\n",
    "rng.choice(5000)"
   ]
  },
  {
   "cell_type": "code",
   "execution_count": 12,
   "id": "7c24f42e",
   "metadata": {},
   "outputs": [
    {
     "data": {
      "text/plain": [
       "array([[3, 4, 5],\n",
       "       [6, 7, 8]])"
      ]
     },
     "execution_count": 12,
     "metadata": {},
     "output_type": "execute_result"
    }
   ],
   "source": [
    "# EXAMPLE 3\n",
    "\n",
    "# Passing in a multi-dimenstional array\n",
    "# Will return two random samples of the following arrays\n",
    "# Set replace to false to ensure it doesn't use choice a more than once. \n",
    "rng.choice([[0, 1, 2], [3, 4, 5], [6, 7, 8], [9, 10, 11], [12, 13, 14]], 2, replace=False)"
   ]
  },
  {
   "cell_type": "markdown",
   "id": "dce926de",
   "metadata": {},
   "source": [
    "### 4. [Random bytes method](https://numpy.org/doc/stable/reference/random/generated/numpy.random.Generator.bytes.html#numpy.random.Generator.bytes)\n",
    "\n",
    "This method is very simple. It returns a random bytes of data. It has one parameter. You pass through the lenght of random bytes you want returned. "
   ]
  },
  {
   "cell_type": "code",
   "execution_count": 13,
   "id": "003fc8b6",
   "metadata": {},
   "outputs": [
    {
     "data": {
      "text/plain": [
       "b'\\x14%\\x87\\r\\xfe3\\xc7?D\\x02\\xd7\\xbc\\xfc\\x05P\\x862\\xe1\\xeed'"
      ]
     },
     "execution_count": 13,
     "metadata": {},
     "output_type": "execute_result"
    }
   ],
   "source": [
    "# EXAMPLE 1\n",
    "\n",
    "# returns 20 random bytes of data \n",
    "rng.bytes(20)"
   ]
  },
  {
   "cell_type": "code",
   "execution_count": 14,
   "id": "861cbb3b",
   "metadata": {},
   "outputs": [
    {
     "data": {
      "text/plain": [
       "b'\\xf1\\xf3V\\xc3\\xcb\\x034g\\x19\\xcd\\x071\\xef\\n\\xc9\\xff\\xb7\\xd3\\xdf\\xcb\\x9bM%\\xc8\\x94\\x01\\xcaG\\x16MJ\\x8f:\\x15@\\x86\\xa5\\x8c\\n\\xeb\\x88\\xc22?\\xb2\\xb5\\x7f\\x95\\xf8\\xfa\\xa0\\\\\\xbb\\x12 \\x1b\\xf0\\xd6\\x8f\\x8c\\xd7\\x9e\\xaa\\xd2\\xb7\\x8a\\xaaSD\\xfc\\nE\\xd8a\\x08\\xc7\\t\\xbc\\xaf\\xc9\\xfe\\x8b_\\xf1Z]\\xd1v\\xf4\\x1f\\x08\\x8c\\x02\\x18)\\xf4\\x16s\\xa9\\xfe'"
      ]
     },
     "execution_count": 14,
     "metadata": {},
     "output_type": "execute_result"
    }
   ],
   "source": [
    "# EXAMPLE 2 \n",
    "\n",
    "rng.bytes(100)"
   ]
  },
  {
   "cell_type": "markdown",
   "id": "10e3f50c",
   "metadata": {},
   "source": [
    "<br>\n",
    "\n",
    "## Permutation Functions"
   ]
  },
  {
   "cell_type": "markdown",
   "id": "1936b7d6",
   "metadata": {},
   "source": [
    "<br>\n",
    "\n",
    "## Distribution Functions"
   ]
  },
  {
   "cell_type": "markdown",
   "id": "543b86ce",
   "metadata": {},
   "source": [
    "<br>\n",
    "\n",
    "## Random Seed"
   ]
  },
  {
   "cell_type": "code",
   "execution_count": null,
   "id": "31453da4",
   "metadata": {},
   "outputs": [],
   "source": []
  },
  {
   "cell_type": "code",
   "execution_count": null,
   "id": "1370eae4",
   "metadata": {},
   "outputs": [],
   "source": []
  },
  {
   "cell_type": "code",
   "execution_count": null,
   "id": "5d734f34",
   "metadata": {},
   "outputs": [],
   "source": []
  },
  {
   "cell_type": "code",
   "execution_count": null,
   "id": "daa07337",
   "metadata": {},
   "outputs": [],
   "source": []
  },
  {
   "cell_type": "code",
   "execution_count": null,
   "id": "f92e7bf2",
   "metadata": {},
   "outputs": [],
   "source": []
  },
  {
   "cell_type": "code",
   "execution_count": null,
   "id": "42a6174b",
   "metadata": {},
   "outputs": [],
   "source": []
  },
  {
   "cell_type": "code",
   "execution_count": 15,
   "id": "348a177a",
   "metadata": {},
   "outputs": [],
   "source": [
    "# change figure style \n",
    "plt.style.use('fivethirtyeight')\n",
    "\n",
    "# change default figure size\n",
    "plt.rcParams['figure.figsize'] = [10, 5]"
   ]
  },
  {
   "cell_type": "markdown",
   "id": "11a69872",
   "metadata": {},
   "source": [
    "<br>\n",
    "\n",
    "## numpy.random.normal\n",
    "\n",
    "https://numpy.org/doc/stable/reference/random/generated/numpy.random.normal.html\n",
    "https://numpy.org/doc/stable/reference/random/generated/numpy.random.Generator.normal.html#numpy.random.Generator.normal\n",
    "***"
   ]
  },
  {
   "cell_type": "code",
   "execution_count": 16,
   "id": "934eaff7",
   "metadata": {},
   "outputs": [],
   "source": [
    "# The parameters for random.normal are loc, scale and size"
   ]
  },
  {
   "cell_type": "code",
   "execution_count": 17,
   "id": "039a1ead",
   "metadata": {},
   "outputs": [],
   "source": [
    "# In the cell below:\n",
    "# 0 refers to the centre/mean of the distribution\n",
    "# 0.1 refers to the spread of the distribution\n",
    "# 1000 refers to the size of the output."
   ]
  },
  {
   "cell_type": "code",
   "execution_count": 18,
   "id": "0cceb8af",
   "metadata": {},
   "outputs": [],
   "source": [
    "# making an object x which generates 1000 random points that lie close to 0 with a width of 0.1. \n",
    "mu, sigma = 0, 0.1 # mean and standard deviation\n",
    "x = np.random.default_rng().normal(mu, sigma, 1000)"
   ]
  },
  {
   "cell_type": "markdown",
   "id": "70a33e1c",
   "metadata": {},
   "source": [
    "### Normal Distribution\n",
    "\n",
    "[Normal distribution](https://www.investopedia.com/terms/n/normaldistribution.asp) is a type of probability distribution that is symmetric about the mean. In other words it shows that data near the mean are more likely to appear than data further away. When displayed on a plot normal distribution tpyically has a bell curve. In this example, the normal distribution is centered around 0 and has a symetrical shape. \n",
    "\n",
    "As we can also see in this histogram I have added a [density curve](https://www.stats4stem.org/density-curves). This curve represents the normal distribtion where the outcomes are continous. "
   ]
  },
  {
   "cell_type": "markdown",
   "id": "54fd47ab",
   "metadata": {},
   "source": [
    "### Bins\n",
    "\n",
    "[Bins](https://matplotlib.org/stable/api/_as_gen/matplotlib.pyplot.hist.html) can be integars, sequence or strings. In this plot the integer 30 is used for bin width. \n",
    "\n",
    "-If the bin is an integer it indicates the number of equal-width bins in the range on the x-axis. \n",
    "        \n",
    "-If the bin is a sequence it outlines the bin edges from left to right and can be uneven.\n",
    "        \n",
    "-If the bin is a string it uses a chosen method to give the optimal bin width. Methods include auto, fd, doane, scott, stone, rice, sturges or sqrt. Auto is reccommended for a good overall performance. \n",
    "\n",
    "<br>"
   ]
  },
  {
   "cell_type": "code",
   "execution_count": 19,
   "id": "3c3b4f8c",
   "metadata": {},
   "outputs": [
    {
     "data": {
      "image/png": "[encoded data removed]",
      "text/plain": [
       "<Figure size 720x360 with 1 Axes>"
      ]
     },
     "metadata": {},
     "output_type": "display_data"
    }
   ],
   "source": [
    "# Plotting the normal distribution on a histogram\n",
    "count, bins, patches = plt.hist(x, 30, density=True)\n",
    "f = 1/(sigma*np.sqrt(2 * np.pi)) * np.exp(-(bins-mu)**2/(2 * sigma**2))\n",
    "plt.plot(bins, f, linewidth=2)\n",
    "plt.show()"
   ]
  },
  {
   "cell_type": "markdown",
   "id": "7bd692d3",
   "metadata": {},
   "source": [
    "***"
   ]
  },
  {
   "cell_type": "markdown",
   "id": "68e2a233",
   "metadata": {},
   "source": [
    "<br>\n",
    "\n",
    "## numpy.random.uniform\n",
    "\n",
    "https://numpy.org/doc/stable/reference/random/generated/numpy.random.Generator.uniform.html#numpy.random.Generator.uniform\n",
    "\n",
    "***"
   ]
  },
  {
   "cell_type": "code",
   "execution_count": 20,
   "id": "9558ac93",
   "metadata": {},
   "outputs": [],
   "source": [
    "# New format includes .default_rng"
   ]
  },
  {
   "cell_type": "code",
   "execution_count": null,
   "id": "c8e26ad0",
   "metadata": {},
   "outputs": [],
   "source": []
  },
  {
   "cell_type": "code",
   "execution_count": 21,
   "id": "bd716ea9",
   "metadata": {},
   "outputs": [],
   "source": [
    "# The parameters for random.uniform are low, high and size"
   ]
  },
  {
   "cell_type": "code",
   "execution_count": 22,
   "id": "d99ee45a",
   "metadata": {},
   "outputs": [],
   "source": [
    "# In the cell below:\n",
    "# -1 refers to the low boundary - basically meaning that the output value will be greater or equal to -1.\n",
    "# 0 is the high boundary - meaning that the output will be less than 0\n",
    "# 1000 refers to the size of the output."
   ]
  },
  {
   "cell_type": "code",
   "execution_count": 23,
   "id": "fc7180b0",
   "metadata": {},
   "outputs": [],
   "source": [
    "# Making object y which generates 1000 random points between -1 and 0 in uniform distribution\n",
    "\n",
    "y = np.random.default_rng().uniform(-1,0,1000)"
   ]
  },
  {
   "cell_type": "markdown",
   "id": "6ec7af62",
   "metadata": {},
   "source": [
    "Uniform distribution refers to a type of probability distribution where all outcomes are equally likely.\n",
    "\n",
    "When displayed on a plot they are typically rectangular in shape. \n",
    "\n",
    "In this example, it means that every point between -1 and 0 has an equal opportunity of appearing. "
   ]
  },
  {
   "cell_type": "markdown",
   "id": "b8a07309",
   "metadata": {},
   "source": [
    "REF FOUND HERE https://www.investopedia.com/terms/u/uniform-distribution.asp"
   ]
  },
  {
   "cell_type": "code",
   "execution_count": 24,
   "id": "548c5b31",
   "metadata": {},
   "outputs": [
    {
     "data": {
      "image/png": "[encoded data removed]",
      "text/plain": [
       "<Figure size 720x360 with 1 Axes>"
      ]
     },
     "metadata": {},
     "output_type": "display_data"
    }
   ],
   "source": [
    "# Creating a histogram to display uniform distribution.\n",
    "count, bins, ignored = plt.hist(y, 15, density=True)\n",
    "plt.plot(bins, np.ones_like(bins), linewidth=2, color='r')\n",
    "plt.show()"
   ]
  },
  {
   "cell_type": "markdown",
   "id": "3b949f33",
   "metadata": {},
   "source": [
    "<br>\n",
    "\n",
    "***"
   ]
  },
  {
   "cell_type": "code",
   "execution_count": null,
   "id": "5eae310b",
   "metadata": {},
   "outputs": [],
   "source": []
  },
  {
   "cell_type": "markdown",
   "id": "c602b107",
   "metadata": {},
   "source": [
    "# References\n",
    "\n",
    "***\n",
    "\n",
    "1. \n",
    "\n",
    "2. \n",
    "\n",
    "3. \n",
    "\n",
    "4. "
   ]
  },
  {
   "cell_type": "markdown",
   "id": "5cd8b117",
   "metadata": {},
   "source": [
    "***\n",
    "# The End"
   ]
  }
 ],
 "metadata": {
  "kernelspec": {
   "display_name": "Python 3",
   "language": "python",
   "name": "python3"
  },
  "language_info": {
   "codemirror_mode": {
    "name": "ipython",
    "version": 3
   },
   "file_extension": ".py",
   "mimetype": "text/x-python",
   "name": "python",
   "nbconvert_exporter": "python",
   "pygments_lexer": "ipython3",
   "version": "3.8.8"
  }
 },
 "nbformat": 4,
 "nbformat_minor": 5
}
