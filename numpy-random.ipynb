{
 "cells": [
  {
   "cell_type": "markdown",
   "id": "6c727150",
   "metadata": {},
   "source": [
    "<img src=https://upload.wikimedia.org/wikipedia/commons/thumb/3/31/NumPy_logo_2020.svg/2560px-NumPy_logo_2020.svg.png width=\"500\">"
   ]
  },
  {
   "cell_type": "markdown",
   "id": "7578c1d6",
   "metadata": {},
   "source": [
    "# The NumPy Random Package\n",
    "\n",
    "\n",
    "[Official documentation](https://numpy.org/doc/stable/reference/random/index.html)\n",
    "\n",
    "***"
   ]
  },
  {
   "cell_type": "markdown",
   "id": "4d9e2451",
   "metadata": {},
   "source": [
    "numpy package changed. see quick start guide\n",
    "\n",
    "https://numpy.org/doc/stable/reference/random/index.html#random-quick-start"
   ]
  },
  {
   "cell_type": "markdown",
   "id": "d07d7429",
   "metadata": {},
   "source": [
    "## What is NumPy?\n",
    "\n",
    "[Numpy](https://numpy.org/doc/stable/user/whatisnumpy.htm) is an open source python library used for working with arrays. [Numpy arrays](https://towardsdatascience.com/tagged/arrays) are powerful objects that are often used as a base data structure when analysing data. \n",
    "\n",
    "[Numpy](https://numpy.org/doc/stable/user/whatisnumpy.html) gives data analysts a faster way of performing various operations on multidimensional arrays including including mathematical, logical, shape manipulation, sorting, selecting, I/O, discrete Fourier transforms, basic linear algebra, basic statistical operations and random simulation.\n",
    "\n",
    "<br>"
   ]
  },
  {
   "cell_type": "markdown",
   "id": "df21e6dd",
   "metadata": {},
   "source": [
    "## The Purpose of NumPy Random\n",
    "\n",
    "There is a module in numpy called [random](https://numpy.org/doc/stable/reference/random/index.html). The purpose of the numpy.random module is to generate random numbers for sampling and testing. \n",
    "\n",
    "The [Numpy.random](https://www.javatpoint.com/numpy-random) module contains the following:\n",
    "\n",
    "1. Simple random data generation methods\n",
    "2. Permutation  functions \n",
    "3. Distribution functions\n",
    "4. Random generator functions\n",
    "\n",
    "<br>"
   ]
  },
  {
   "cell_type": "markdown",
   "id": "f1a8a762",
   "metadata": {},
   "source": [
    "## Importing packages\n",
    "\n",
    "***\n",
    "\n",
    "First step: Import the numpy and the matplotlib.pyplot libraries in order to create and visualise examples of how the NumPy Random packages works. "
   ]
  },
  {
   "cell_type": "code",
   "execution_count": 1,
   "id": "b1cc6185",
   "metadata": {},
   "outputs": [],
   "source": [
    "# numpy package used for efficent numerical arrays\n",
    "import numpy as np\n",
    "\n",
    "# importing for plotting data\n",
    "import matplotlib.pyplot as plt"
   ]
  },
  {
   "cell_type": "code",
   "execution_count": 2,
   "id": "aa24e8a1",
   "metadata": {},
   "outputs": [],
   "source": [
    "# Quick start guide recommends importing numpy random this way.\n",
    "# Numpy has been updated to version 1.21.0 and this format is more compatible. \n",
    "# https://numpy.org/doc/stable/reference/random/index.html\n",
    "\n",
    "from numpy.random import default_rng\n",
    "rng = default_rng()\n",
    "vals = rng.standard_normal(10)\n",
    "more_vals = rng.standard_normal(10)"
   ]
  },
  {
   "cell_type": "markdown",
   "id": "0fd9b75f",
   "metadata": {},
   "source": [
    "<br>\n",
    "\n",
    "## Style and Design\n",
    "***"
   ]
  },
  {
   "cell_type": "code",
   "execution_count": 3,
   "id": "348a177a",
   "metadata": {},
   "outputs": [],
   "source": [
    "# Setting plot style \n",
    "plt.style.use('fivethirtyeight')\n",
    "\n",
    "# Set figure size \n",
    "plt.rcParams['figure.figsize'] = [10, 5]\n",
    "\n",
    "# Using magic command to set plots to display inline below code  \n",
    "%matplotlib inline"
   ]
  },
  {
   "cell_type": "markdown",
   "id": "393a241e",
   "metadata": {},
   "source": [
    "references for end\n",
    "\n",
    "\n",
    "https://towardsdatascience.com/top-10-magic-commands-in-python-to-boost-your-productivity-1acac061c7a9\n",
    "https://stackoverflow.com/questions/43027980/purpose-of-matplotlib-inline\n",
    "https://matplotlib.org/stable/gallery/style_sheets/style_sheets_reference.html\n",
    "https://matplotlib.org/stable/api/matplotlib_configuration_api.html#matplotlib.RcParams\n",
    "https://towardsdatascience.com/change-figure-size-matplotlib-11a409f39584"
   ]
  },
  {
   "cell_type": "markdown",
   "id": "e7fc368b",
   "metadata": {},
   "source": [
    "<br>\n",
    "\n",
    "## Simple Random Data\n",
    "\n",
    "***\n",
    "\n",
    "There are 4 different methods of generating simple random data:\n",
    "\n",
    "1. random integers\n",
    "2. random random\n",
    "3. random choice\n",
    "4. random bytes"
   ]
  },
  {
   "cell_type": "markdown",
   "id": "c7aa4f83",
   "metadata": {},
   "source": [
    "<br>\n",
    "\n",
    "### 1.  [Random integers method](https://numpy.org/doc/stable/reference/random/generated/numpy.random.Generator.integers.html#numpy.random.Generator.integers) \n",
    "\n",
    "This method returns random integers in an array using a number of parameters: \n",
    "\n",
    "- Firstly, the lowest value that can be selected must be set. This integer is inclusive.\n",
    "\n",
    "\n",
    "- Next the hightest value must be set. This value is exclusive. For example a high value of 7 could return any value up until but not including 7 . \n",
    "\n",
    "\n",
    "- If a high value is not selected then the default for the lowest value kicks in and the value selected would be treated as the highest parameter for that array. \n",
    "\n",
    "\n",
    "- The default size value reuturns 1 integer unless a specific size is set. \n",
    "\n",
    "\n",
    "- dtype is the describes the data type returned. The default value for this is np.int64 unless otherwise specified. \n",
    "\n",
    "\n",
    "- Finally, the parameter endpoint can be used. This uses a boolean when if true it returns a sample from the interval low, high inclusive of both those values. The dafault for this is set at false. "
   ]
  },
  {
   "cell_type": "code",
   "execution_count": 4,
   "id": "ce20f5df",
   "metadata": {},
   "outputs": [
    {
     "data": {
      "text/plain": [
       "array([4, 5, 4, 2, 5, 5, 7, 7, 5, 2], dtype=int64)"
      ]
     },
     "execution_count": 4,
     "metadata": {},
     "output_type": "execute_result"
    }
   ],
   "source": [
    "# EXAMPLE 1\n",
    "\n",
    "# Set lowest value inclusive at 2\n",
    "# Set the highest value at 7\n",
    "# Set the return array size to 10\n",
    "# Set endpoint to true so that it could include the highest value\n",
    "\n",
    "rng.integers(2, 7, size=10, endpoint=True)"
   ]
  },
  {
   "cell_type": "code",
   "execution_count": 5,
   "id": "3ce486c9",
   "metadata": {},
   "outputs": [
    {
     "data": {
      "text/plain": [
       "array([81, 63, 42, 60, 44], dtype=int64)"
      ]
     },
     "execution_count": 5,
     "metadata": {},
     "output_type": "execute_result"
    }
   ],
   "source": [
    "# EXAMPLE 2\n",
    "\n",
    "# Lowest value defaults to 0\n",
    "# Highest value set to 100 (exclusive)\n",
    "# Size of array to return = 5\n",
    "rng.integers(100, size=5)"
   ]
  },
  {
   "cell_type": "code",
   "execution_count": 6,
   "id": "0ec0d5c7",
   "metadata": {},
   "outputs": [
    {
     "data": {
      "text/plain": [
       "500"
      ]
     },
     "execution_count": 6,
     "metadata": {},
     "output_type": "execute_result"
    }
   ],
   "source": [
    "# EXAMPLE 3 \n",
    "\n",
    "# Set low and highest values \n",
    "# No size selected so defaults to return 1 value\n",
    "rng.integers(50, 1000)"
   ]
  },
  {
   "cell_type": "markdown",
   "id": "d3709702",
   "metadata": {},
   "source": [
    "<br>\n",
    "\n",
    "### 2. [Random random method](https://numpy.org/doc/stable/reference/random/generated/numpy.random.Generator.random.html#numpy.random.Generator.random)\n",
    "\n",
    "This method generates random floats in an array with the option of using 3 parameters:\n",
    "\n",
    "- First the size and output shape can be set. The first value relfects the number of lines that are returned. The second value determines how many floats to return in each line. If the size it none then it will default to return 1 random float. \n",
    "\n",
    "\n",
    "- Next the dtype can be set. The default value is np.float64.\n",
    "\n",
    "\n",
    "- Finally the output can be changed. It must bear the same shape as specified in size if applicable and it must also match the type of output values. This is known as an ndarray which gives an alternative output array in whcih to place the result. "
   ]
  },
  {
   "cell_type": "code",
   "execution_count": 7,
   "id": "1fa9350c",
   "metadata": {},
   "outputs": [
    {
     "data": {
      "text/plain": [
       "0.6943996499202437"
      ]
     },
     "execution_count": 7,
     "metadata": {},
     "output_type": "execute_result"
    }
   ],
   "source": [
    "# EXAMPLE 1\n",
    "\n",
    "# Returns one random float. \n",
    "rng.random() "
   ]
  },
  {
   "cell_type": "code",
   "execution_count": 8,
   "id": "012954be",
   "metadata": {},
   "outputs": [
    {
     "data": {
      "text/plain": [
       "array([[0.38979401, 0.46945151, 0.73992472],\n",
       "       [0.9962363 , 0.12747143, 0.29642367],\n",
       "       [0.14295825, 0.87355323, 0.06795462],\n",
       "       [0.97291034, 0.63764842, 0.77317377]])"
      ]
     },
     "execution_count": 8,
     "metadata": {},
     "output_type": "execute_result"
    }
   ],
   "source": [
    "# EXAMPLE 2\n",
    "\n",
    "# Returns 4 lines contain 3 random floats in each\n",
    "rng.random((4, 3)) "
   ]
  },
  {
   "cell_type": "code",
   "execution_count": 9,
   "id": "213e0c13",
   "metadata": {},
   "outputs": [
    {
     "data": {
      "text/plain": [
       "array([[3.86671938, 1.3586991 , 1.49259256],\n",
       "       [2.62809004, 0.87750787, 4.88191214],\n",
       "       [1.92372751, 3.93035384, 3.11098061],\n",
       "       [3.59987487, 1.3118589 , 0.27852444]])"
      ]
     },
     "execution_count": 9,
     "metadata": {},
     "output_type": "execute_result"
    }
   ],
   "source": [
    "# EXAMPLE 3\n",
    "\n",
    "# Changing the output by multipluing each random float by 6 \n",
    "6 * rng.random((4, 3)) "
   ]
  },
  {
   "cell_type": "markdown",
   "id": "9a3e58f2",
   "metadata": {},
   "source": [
    "<br>\n",
    "\n",
    "### 3. [Random choice method](https://numpy.org/doc/stable/reference/random/generated/numpy.random.Generator.choice.html#numpy.random.Generator.choice)\n",
    "\n",
    "The random choice method allows us to choose random integers from a given 1 dimensional array. Parameters include the following:\n",
    "\n",
    "- a {array_like, int}: The \"a\" parameter will select a random sample from an ndarray. In other words if multiple arrays are passed into this argument then it will return a random sample of arrays. If an integer is passed into the choice argument then similar to the np.arrage function it will return a random sample within a given intervel. \n",
    "\n",
    "\n",
    "- The size of the output shape is determined here. The same shape will be returned unless the a has more than 1 dimension in which case a size must be specified. The default is none so a single value is returned. \n",
    "\n",
    "\n",
    "- Replace is a boolean option which if true means that \"a\" can be used multiple times.\n",
    "\n",
    "\n",
    "- p: refers to the probabilities relating to each entry in \"a\". If not otherwise specified the random sample assumes a uniform distribution over all entries in \"a\".\n",
    "\n",
    "\n",
    "- The axis parameter defaults to 0 when selecting by row. It selects the axis which the random selection should be performed. \n",
    "\n",
    "\n",
    "- Shuffle is also a boolean option. It determines whether the sample is shuffled when sampling without replacement. The default is true. False provides a speedup."
   ]
  },
  {
   "cell_type": "code",
   "execution_count": 10,
   "id": "1cd4019d",
   "metadata": {},
   "outputs": [],
   "source": [
    "# EXAMPLE 1\n",
    "\n",
    "# This is random selection of integers from 0 up to but not including 5\n",
    "# 3 asks it to selcet 3 random choices. \n",
    "\n",
    "# uniform sampling\n",
    "x = rng.choice(4, 3)\n",
    "\n",
    "# non-uniform sampling by giving probabilities \n",
    "y = rng.choice(4, 3, p=[0.1, 0, 0.3, 0.6])\n",
    "\n",
    "# This could also be done by using the random.integers format: np.random.integers(0, 4, 3)"
   ]
  },
  {
   "cell_type": "code",
   "execution_count": 11,
   "id": "b14170a2",
   "metadata": {},
   "outputs": [
    {
     "data": {
      "text/plain": [
       "(array([3, 2, 2], dtype=int64), array([2, 2, 3], dtype=int64))"
      ]
     },
     "execution_count": 11,
     "metadata": {},
     "output_type": "execute_result"
    }
   ],
   "source": [
    "x, y"
   ]
  },
  {
   "cell_type": "code",
   "execution_count": 12,
   "id": "542c70c4",
   "metadata": {},
   "outputs": [
    {
     "data": {
      "text/plain": [
       "4936"
      ]
     },
     "execution_count": 12,
     "metadata": {},
     "output_type": "execute_result"
    }
   ],
   "source": [
    "# EXAMPLE 2\n",
    "\n",
    "# Selects a random integer from 0 up to but not including 5000\n",
    "rng.choice(5000)"
   ]
  },
  {
   "cell_type": "code",
   "execution_count": 13,
   "id": "7c24f42e",
   "metadata": {},
   "outputs": [
    {
     "data": {
      "text/plain": [
       "array([[ 6,  7,  8],\n",
       "       [ 9, 10, 11]])"
      ]
     },
     "execution_count": 13,
     "metadata": {},
     "output_type": "execute_result"
    }
   ],
   "source": [
    "# EXAMPLE 3\n",
    "\n",
    "# Passing in a multi-dimenstional array\n",
    "# Will return two random samples of the following arrays\n",
    "# Set replace to false to ensure it doesn't use choice a more than once. \n",
    "rng.choice([[0, 1, 2], [3, 4, 5], [6, 7, 8], [9, 10, 11], [12, 13, 14]], 2, replace=False)"
   ]
  },
  {
   "cell_type": "markdown",
   "id": "dce926de",
   "metadata": {},
   "source": [
    "<br>\n",
    "\n",
    "### 4. [Random bytes method](https://numpy.org/doc/stable/reference/random/generated/numpy.random.Generator.bytes.html#numpy.random.Generator.bytes)\n",
    "\n",
    "This method is very simple. It returns a random bytes of data. It has one parameter. You pass through the lenght of random bytes you want returned. "
   ]
  },
  {
   "cell_type": "code",
   "execution_count": 14,
   "id": "003fc8b6",
   "metadata": {},
   "outputs": [
    {
     "data": {
      "text/plain": [
       "b'[\\x1a\\xac\\xe8\\x1f\\xe0\\xe3`C\\x1c\\x19\\xd2\\xa1w\\x07\\x97\\\\\\xe9v\\x91'"
      ]
     },
     "execution_count": 14,
     "metadata": {},
     "output_type": "execute_result"
    }
   ],
   "source": [
    "# EXAMPLE 1\n",
    "\n",
    "# returns 20 random bytes of data \n",
    "rng.bytes(20)"
   ]
  },
  {
   "cell_type": "code",
   "execution_count": 15,
   "id": "861cbb3b",
   "metadata": {},
   "outputs": [
    {
     "data": {
      "text/plain": [
       "b\"(\\x0c\\xb7Z\\xe2\\xa3q\\x10\\xc3\\nFK\\xef\\x9e\\xd2\\xb8\\x0c\\x0f_\\xce\\x07\\xe5\\xb6b\\xfe\\x19\\xe1\\xc4\\xe7\\xe0\\xf7\\xb1\\xc6-\\xe0\\x8c\\xf7\\x9a'\\xfe\\xe5\\xbb\\xb3\\xe0\\xc6i\\x97n('\\xc5-_\\xd0\\x19d\\xd9?\\xceo\\xf3\\xe7oSRU\\xb4\\xc4u\\x86\\xc0\\xa8\\xcb9\\xcaPD\\xbc\\xa5\\xdbH\\xbdi\\xf9\\x80\\t6N\\xb5\\x83\\xaeb\\xe5\\xfd\\x9fKM$\\xedh\""
      ]
     },
     "execution_count": 15,
     "metadata": {},
     "output_type": "execute_result"
    }
   ],
   "source": [
    "# EXAMPLE 2 \n",
    "\n",
    "rng.bytes(100)"
   ]
  },
  {
   "cell_type": "markdown",
   "id": "10e3f50c",
   "metadata": {},
   "source": [
    "<br>\n",
    "\n",
    "## Permutation Functions\n",
    "\n",
    "***\n",
    "[Random permutation](https://en.wikipedia.org/wiki/Random_permutation) is a random ordering of a set of objects. This is crucial in areas such as coding theory, cryptography and simulation which all use randomisied algorithms. \n",
    "\n",
    "There are three methods of permutation a sequence in numpy random. \n",
    "\n",
    "1. Shuffle\n",
    "2. Permutation\n",
    "3. Permuted"
   ]
  },
  {
   "cell_type": "markdown",
   "id": "0913fc9d",
   "metadata": {},
   "source": [
    "<br>\n",
    "\n",
    "### 1. [Shuffle](https://numpy.org/doc/stable/reference/random/generated/numpy.random.Generator.shuffle.html#numpy.random.Generator.shuffle)\n",
    "\n",
    "This method adjusts an array or sequence by shuffling it's contents. It will change the order but not the contents. \n",
    "\n",
    "- The first parameter for this method is x. This is the array or sequence that will be passed into the argument. \n",
    "\n",
    "\n",
    "- The second is axis. This is optional and if not selected the default is 0. The purpose of this parameter is the set the axis whihch x is shuffled along. "
   ]
  },
  {
   "cell_type": "code",
   "execution_count": 16,
   "id": "3edf8750",
   "metadata": {},
   "outputs": [
    {
     "data": {
      "text/plain": [
       "array([0, 9, 1, 5, 7, 8, 3, 4, 6, 2])"
      ]
     },
     "execution_count": 16,
     "metadata": {},
     "output_type": "execute_result"
    }
   ],
   "source": [
    "# EXAMPLE 1\n",
    "\n",
    "# Using np.arrange to select random integers up to but not including 10\n",
    "# Shuffle these numbers to alter their sequence in the array\n",
    "\n",
    "numbers = np.arange(10)\n",
    "rng.shuffle(numbers)\n",
    "numbers "
   ]
  },
  {
   "cell_type": "code",
   "execution_count": 17,
   "id": "48b80582",
   "metadata": {},
   "outputs": [
    {
     "data": {
      "text/plain": [
       "array([[2, 0, 1],\n",
       "       [5, 3, 4],\n",
       "       [8, 6, 7]])"
      ]
     },
     "execution_count": 17,
     "metadata": {},
     "output_type": "execute_result"
    }
   ],
   "source": [
    "# EXAMPLE 2\n",
    "\n",
    "# Creating multi-dimensional arrays to shuffle. \n",
    "# requesting 3 random numbers on 3 lines from 0 up until but not including 9\n",
    "\n",
    "arr = np.arange(9).reshape((3, 3))\n",
    "rng.shuffle(arr, axis=1)\n",
    "arr"
   ]
  },
  {
   "cell_type": "markdown",
   "id": "2c9d28ba",
   "metadata": {},
   "source": [
    "<br>\n",
    "\n",
    "### 2. [Permutation](https://numpy.org/doc/stable/reference/random/generated/numpy.random.Generator.permutation.html#numpy.random.Generator.permutation)\n",
    "\n",
    "This method randomly modifies a sequence or returns a modified range. The parameters are similar to the shuffle method. \n",
    "\n",
    "- x can be either an integer or an array. If it's an integer it randomly permutes x. If it is an array, it makes a copy and randomly shuffles it's elements. \n",
    "\n",
    "\n",
    "- Axis is again optional and is specified depending on which axis x is to be permuted. Default axis is 0. \n"
   ]
  },
  {
   "cell_type": "code",
   "execution_count": 18,
   "id": "d72b8b3f",
   "metadata": {},
   "outputs": [
    {
     "data": {
      "text/plain": [
       "array([ 9, 11,  1,  0,  6,  3, 13, 14,  8,  4, 12,  5,  2, 10,  7])"
      ]
     },
     "execution_count": 18,
     "metadata": {},
     "output_type": "execute_result"
    }
   ],
   "source": [
    "#EXAMPLE 1\n",
    "\n",
    "# retunrs a modified range\n",
    "rng.permutation(15)"
   ]
  },
  {
   "cell_type": "code",
   "execution_count": 19,
   "id": "672bee11",
   "metadata": {},
   "outputs": [
    {
     "data": {
      "text/plain": [
       "array([18,  2, 11, 21,  5])"
      ]
     },
     "execution_count": 19,
     "metadata": {},
     "output_type": "execute_result"
    }
   ],
   "source": [
    "# EXAMPLE 2\n",
    "\n",
    "# rearranges the array provided\n",
    "rng.permutation([2, 5, 11, 18, 21])"
   ]
  },
  {
   "cell_type": "code",
   "execution_count": 20,
   "id": "15b17054",
   "metadata": {},
   "outputs": [
    {
     "data": {
      "text/plain": [
       "array([[ 2,  1,  0],\n",
       "       [ 5,  4,  3],\n",
       "       [ 8,  7,  6],\n",
       "       [11, 10,  9]])"
      ]
     },
     "execution_count": 20,
     "metadata": {},
     "output_type": "execute_result"
    }
   ],
   "source": [
    "# EXAMPLE 3\n",
    "\n",
    "# modifies the sequence of 12 integers in 4 arrays containing 3 integers each. \n",
    "example = np.arange(12).reshape((4, 3))\n",
    "rng.permutation(example, axis=1)"
   ]
  },
  {
   "cell_type": "markdown",
   "id": "28f38dcf",
   "metadata": {},
   "source": [
    "<br>\n",
    "\n",
    "### 3. [Permuted](https://numpy.org/doc/stable/reference/random/generated/numpy.random.Generator.permuted.html#numpy.random.Generator.permuted)\n",
    "\n",
    "This method is slightly different to shuffle. It shuffles each piece independelty of others along a given axis. The parameters are as follows:\n",
    "\n",
    "- x is the array which is to be shuffled\n",
    "\n",
    "\n",
    "- Axis is used to shuffle parts of \"x\" independently of other parts. If the axis is none the flattened array is shuffled. \n",
    "\n",
    "\n",
    "- Out designates the dentination of the shuffed array. If out is none then a shuffled copy of \"x\" is returned. Otherwise this shuffled array is stored and returned as out. "
   ]
  },
  {
   "cell_type": "code",
   "execution_count": 21,
   "id": "004f5492",
   "metadata": {},
   "outputs": [
    {
     "data": {
      "text/plain": [
       "array([[ 0,  1,  2,  3,  4],\n",
       "       [ 5,  6,  7,  8,  9],\n",
       "       [10, 11, 12, 13, 14],\n",
       "       [15, 16, 17, 18, 19],\n",
       "       [20, 21, 22, 23, 24]])"
      ]
     },
     "execution_count": 21,
     "metadata": {},
     "output_type": "execute_result"
    }
   ],
   "source": [
    "# EXAMPLE 1\n",
    "\n",
    "# Creating a sample array x\n",
    "x = np.arange(25).reshape(5, 5)\n",
    "x"
   ]
  },
  {
   "cell_type": "code",
   "execution_count": 22,
   "id": "308ea87d",
   "metadata": {},
   "outputs": [
    {
     "data": {
      "text/plain": [
       "array([[ 1,  4,  2,  0,  3],\n",
       "       [ 9,  8,  6,  5,  7],\n",
       "       [10, 12, 14, 13, 11],\n",
       "       [16, 18, 17, 15, 19],\n",
       "       [24, 22, 21, 20, 23]])"
      ]
     },
     "execution_count": 22,
     "metadata": {},
     "output_type": "execute_result"
    }
   ],
   "source": [
    "# Shuffle the sample array using axis 1 and set this modified array as y\n",
    "y = rng.permuted(x, axis=1)\n",
    "\n",
    "# Test y\n",
    "y"
   ]
  },
  {
   "cell_type": "code",
   "execution_count": 23,
   "id": "f1b133a9",
   "metadata": {},
   "outputs": [
    {
     "data": {
      "text/plain": [
       "array([[ 0,  1,  2,  3,  4],\n",
       "       [ 5,  6,  7,  8,  9],\n",
       "       [10, 11, 12, 13, 14],\n",
       "       [15, 16, 17, 18, 19],\n",
       "       [20, 21, 22, 23, 24]])"
      ]
     },
     "execution_count": 23,
     "metadata": {},
     "output_type": "execute_result"
    }
   ],
   "source": [
    "# Test x is still the same array as in the beginning\n",
    "x"
   ]
  },
  {
   "cell_type": "code",
   "execution_count": 24,
   "id": "b1fc60e1",
   "metadata": {},
   "outputs": [],
   "source": [
    "# Setting y as the shuffled x array and setting the output equal to x also\n",
    "y = rng.permuted(x, axis=1, out=x)"
   ]
  },
  {
   "cell_type": "code",
   "execution_count": 25,
   "id": "d0ff3757",
   "metadata": {},
   "outputs": [
    {
     "data": {
      "text/plain": [
       "array([[ 3,  1,  4,  0,  2],\n",
       "       [ 5,  7,  6,  8,  9],\n",
       "       [12, 14, 11, 10, 13],\n",
       "       [19, 17, 18, 15, 16],\n",
       "       [22, 21, 24, 23, 20]])"
      ]
     },
     "execution_count": 25,
     "metadata": {},
     "output_type": "execute_result"
    }
   ],
   "source": [
    "# Test y \n",
    "y"
   ]
  },
  {
   "cell_type": "code",
   "execution_count": 26,
   "id": "c97e131c",
   "metadata": {},
   "outputs": [
    {
     "data": {
      "text/plain": [
       "array([[ 3,  1,  4,  0,  2],\n",
       "       [ 5,  7,  6,  8,  9],\n",
       "       [12, 14, 11, 10, 13],\n",
       "       [19, 17, 18, 15, 16],\n",
       "       [22, 21, 24, 23, 20]])"
      ]
     },
     "execution_count": 26,
     "metadata": {},
     "output_type": "execute_result"
    }
   ],
   "source": [
    "# Test modified x array\n",
    "x"
   ]
  },
  {
   "cell_type": "code",
   "execution_count": 27,
   "id": "a8e788a3",
   "metadata": {},
   "outputs": [
    {
     "data": {
      "text/plain": [
       "True"
      ]
     },
     "execution_count": 27,
     "metadata": {},
     "output_type": "execute_result"
    }
   ],
   "source": [
    "# Therefore, y and x are now the same arrays. \n",
    "y is x"
   ]
  },
  {
   "cell_type": "markdown",
   "id": "1936b7d6",
   "metadata": {},
   "source": [
    "<br>\n",
    "\n",
    "## Distribution Functions\n",
    "\n",
    "***\n",
    "[Distribution functions](https://www.britannica.com/science/distribution-function) are mathematical expressions that are used to determine the probaility of taking on a specific value or set of values. \n",
    "\n",
    "\n",
    "The numpy random library has a wide range of functions used for distribution. I have selected 5 of these functions and will use matplotlib.pyplot in order to visualise what the distribution looks like.\n"
   ]
  },
  {
   "cell_type": "markdown",
   "id": "11a69872",
   "metadata": {},
   "source": [
    "<br>\n",
    "\n",
    "## 1. Random Normal Function\n",
    "\n",
    "\n",
    "The [random.normal](https://numpy.org/doc/stable/reference/random/generated/numpy.random.Generator.normal.html#numpy.random.Generator.normal) function generates random samples from normal distribution. \n",
    "\n",
    "\n",
    "[Normal distribution](https://www.investopedia.com/terms/n/normaldistribution.asp) is a type of probability distribution that is symmetric about the mean. In other words it shows that data near the mean are more likely to appear than data further away. When displayed on a plot normal distribution typically has a bell shaped curve. \n",
    "\n",
    "\n",
    "The parameters for using this function are as follows:\n",
    "\n",
    "\n",
    "- loc: This is a float or an array of floats which determine the mean/centre of the distribution.\n",
    "\n",
    "\n",
    "- scale: can also be a float or array of floats. They cannot be negative floats. The scale displays the standard deviation. In other words, it shows the spread or width of the distribution. \n",
    "\n",
    "\n",
    "- size: The size refers to the output shape. If not specidied it will reutrn a single value by default. Size can either by an integer or a tuple of integers. \n"
   ]
  },
  {
   "cell_type": "code",
   "execution_count": 28,
   "id": "039a1ead",
   "metadata": {},
   "outputs": [],
   "source": [
    "# EXAMPLE\n",
    "\n",
    "# In the cell below:\n",
    "\n",
    "# Mu is set to 0 which is the centre/mean of the distribution\n",
    "# Sigma refers to the standard deviation/spread of the distribution which is set at 0.1 \n",
    "# 1000 refers to the size of the output."
   ]
  },
  {
   "cell_type": "code",
   "execution_count": 29,
   "id": "0cceb8af",
   "metadata": {},
   "outputs": [],
   "source": [
    "# making x an array which generates 1000 random points that lie close to 0 with a width of 0.1 \n",
    "mu, sigma = 0, 0.1 \n",
    "x = rng.normal(mu, sigma, 1000)"
   ]
  },
  {
   "cell_type": "code",
   "execution_count": 30,
   "id": "5af67e8a",
   "metadata": {},
   "outputs": [],
   "source": [
    "# In the cell below:\n",
    "\n",
    "# Count in each bin is set to x which contains the array of 1000 random points \n",
    "# Bin width is the left hand edge of each bin which is set to 30\n",
    "# Patches refers to the individual patches/rectangles used to create the histogram\n",
    "# Density=True puts a probability curve on the plot\n",
    "\n",
    "# f contains sample data which divides 1 by:\n",
    "# 9the standard deviation multiplied by the square root of (2 multiplied by the value of pi)) \n",
    "# multiplied by the negative exponential value of ((bins(30) minus the mean(mu) rasied to the power of 2) \n",
    "# divided by (2 multiplied by the power of the standard deviation(sigma)). "
   ]
  },
  {
   "cell_type": "code",
   "execution_count": 31,
   "id": "3c3b4f8c",
   "metadata": {},
   "outputs": [
    {
     "data": {
      "image/png": "[encoded data removed]",
      "text/plain": [
       "<Figure size 432x288 with 1 Axes>"
      ]
     },
     "metadata": {
      "needs_background": "light"
     },
     "output_type": "display_data"
    }
   ],
   "source": [
    "# Plotting the normal distribution on a histogram\n",
    "\n",
    "count, bins, patches = plt.hist(x, 30, density=True)\n",
    "f = 1/(sigma*np.sqrt(2 * np.pi)) * np.exp(-(bins-mu)**2/(2 * sigma**2))\n",
    "plt.plot(bins, f, linewidth=2)\n",
    "plt.show()"
   ]
  },
  {
   "cell_type": "markdown",
   "id": "43faa711",
   "metadata": {},
   "source": [
    "<br>\n",
    "\n",
    "In this example, the normal distribution is centered around 0 and has a symetrical shape. \n",
    "\n",
    "As we can see in the histogram below there is a [density curve](https://www.stats4stem.org/density-curves) which represents the normal distribtion where the outcomes are continous. \n",
    "\n",
    "\n",
    "***"
   ]
  },
  {
   "cell_type": "markdown",
   "id": "3718fcee",
   "metadata": {},
   "source": [
    "# Remove this cell before end\n",
    "\n",
    "references for cell below for end\n",
    "\n",
    "\n",
    "\n",
    "https://matplotlib.org/stable/api/_as_gen/matplotlib.pyplot.hist.html\n",
    "\n",
    "\n",
    "https://stackoverflow.com/questions/23773131/what-are-n-bins-and-patches-in-matplotlib\n",
    "\n",
    "\n",
    "https://realpython.com/python-operators-expressions/\n",
    "\n",
    "\n",
    "https://www.geeksforgeeks.org/numpy-sqrt-in-python/\n",
    "\n"
   ]
  },
  {
   "cell_type": "markdown",
   "id": "68e2a233",
   "metadata": {},
   "source": [
    "<br>\n",
    "\n",
    "\n",
    "## 2. numpy.random.uniform\n",
    "\n",
    "https://numpy.org/doc/stable/reference/random/generated/numpy.random.Generator.uniform.html#numpy.random.Generator.uniform\n",
    "\n",
    "***"
   ]
  },
  {
   "cell_type": "code",
   "execution_count": 32,
   "id": "9558ac93",
   "metadata": {},
   "outputs": [],
   "source": [
    "# New format includes .default_rng"
   ]
  },
  {
   "cell_type": "code",
   "execution_count": 33,
   "id": "bd716ea9",
   "metadata": {},
   "outputs": [],
   "source": [
    "# The parameters for random.uniform are low, high and size"
   ]
  },
  {
   "cell_type": "code",
   "execution_count": 34,
   "id": "d99ee45a",
   "metadata": {},
   "outputs": [],
   "source": [
    "# In the cell below:\n",
    "# -1 refers to the low boundary - basically meaning that the output value will be greater or equal to -1.\n",
    "# 0 is the high boundary - meaning that the output will be less than 0\n",
    "# 1000 refers to the size of the output."
   ]
  },
  {
   "cell_type": "code",
   "execution_count": 35,
   "id": "fc7180b0",
   "metadata": {},
   "outputs": [],
   "source": [
    "# Making object y which generates 1000 random points between -1 and 0 in uniform distribution\n",
    "\n",
    "y = np.random.default_rng().uniform(-1,0,1000)"
   ]
  },
  {
   "cell_type": "markdown",
   "id": "6ec7af62",
   "metadata": {},
   "source": [
    "Uniform distribution refers to a type of probability distribution where all outcomes are equally likely.\n",
    "\n",
    "When displayed on a plot they are typically rectangular in shape. \n",
    "\n",
    "In this example, it means that every point between -1 and 0 has an equal opportunity of appearing. "
   ]
  },
  {
   "cell_type": "markdown",
   "id": "b8a07309",
   "metadata": {},
   "source": [
    "REF FOUND HERE https://www.investopedia.com/terms/u/uniform-distribution.asp"
   ]
  },
  {
   "cell_type": "code",
   "execution_count": 36,
   "id": "548c5b31",
   "metadata": {},
   "outputs": [
    {
     "data": {
      "image/png": "[encoded data removed]",
      "text/plain": [
       "<Figure size 432x288 with 1 Axes>"
      ]
     },
     "metadata": {
      "needs_background": "light"
     },
     "output_type": "display_data"
    }
   ],
   "source": [
    "# Creating a histogram to display uniform distribution.\n",
    "count, bins, ignored = plt.hist(y, 15, density=True)\n",
    "plt.plot(bins, np.ones_like(bins), linewidth=2, color='r')\n",
    "plt.show()"
   ]
  },
  {
   "cell_type": "code",
   "execution_count": null,
   "id": "bf35401d",
   "metadata": {},
   "outputs": [],
   "source": []
  },
  {
   "cell_type": "code",
   "execution_count": null,
   "id": "4685b34a",
   "metadata": {},
   "outputs": [],
   "source": []
  },
  {
   "cell_type": "code",
   "execution_count": null,
   "id": "146ab321",
   "metadata": {},
   "outputs": [],
   "source": []
  },
  {
   "cell_type": "code",
   "execution_count": null,
   "id": "4abccf4b",
   "metadata": {},
   "outputs": [],
   "source": []
  },
  {
   "cell_type": "code",
   "execution_count": null,
   "id": "b3b44062",
   "metadata": {},
   "outputs": [],
   "source": []
  },
  {
   "cell_type": "markdown",
   "id": "543b86ce",
   "metadata": {},
   "source": [
    "<br>\n",
    "\n",
    "## Random Seed"
   ]
  },
  {
   "cell_type": "code",
   "execution_count": null,
   "id": "5eae310b",
   "metadata": {},
   "outputs": [],
   "source": []
  },
  {
   "cell_type": "markdown",
   "id": "c602b107",
   "metadata": {},
   "source": [
    "# References\n",
    "\n",
    "***\n",
    "\n",
    "1. \n",
    "\n",
    "2. \n",
    "\n",
    "3. \n",
    "\n",
    "4. "
   ]
  },
  {
   "cell_type": "markdown",
   "id": "5cd8b117",
   "metadata": {},
   "source": [
    "***\n",
    "# The End"
   ]
  }
 ],
 "metadata": {
  "kernelspec": {
   "display_name": "Python 3",
   "language": "python",
   "name": "python3"
  },
  "language_info": {
   "codemirror_mode": {
    "name": "ipython",
    "version": 3
   },
   "file_extension": ".py",
   "mimetype": "text/x-python",
   "name": "python",
   "nbconvert_exporter": "python",
   "pygments_lexer": "ipython3",
   "version": "3.8.8"
  }
 },
 "nbformat": 4,
 "nbformat_minor": 5
}
