{
 "cells": [
  {
   "cell_type": "markdown",
   "id": "6c727150",
   "metadata": {},
   "source": [
    "<img src=https://upload.wikimedia.org/wikipedia/commons/thumb/3/31/NumPy_logo_2020.svg/2560px-NumPy_logo_2020.svg.png width=\"500\">"
   ]
  },
  {
   "cell_type": "markdown",
   "id": "7578c1d6",
   "metadata": {},
   "source": [
    "# The NumPy Random Package\n",
    "\n",
    "\n",
    "[Official documentation](https://numpy.org/doc/stable/reference/random/index.html)\n",
    "\n",
    "***"
   ]
  },
  {
   "cell_type": "markdown",
   "id": "d07d7429",
   "metadata": {},
   "source": [
    "## What is NumPy?\n",
    "\n",
    "[Numpy](https://numpy.org/doc/stable/user/whatisnumpy.html) is an open source python library used for working with arrays. [Numpy arrays](https://towardsdatascience.com/tagged/arrays) are powerful objects that are often used as a base data structure when analysing data. \n",
    "\n",
    "[Numpy](https://numpy.org/doc/stable/user/whatisnumpy.html) gives data analysts a faster way of performing various operations on multidimensional arrays, including mathematical, logical, shape manipulation, sorting, selecting, I/O, discrete Fourier transforms, basic linear algebra, basic statistical operations and random simulation.\n",
    "\n",
    "<br>"
   ]
  },
  {
   "cell_type": "markdown",
   "id": "df21e6dd",
   "metadata": {},
   "source": [
    "## The Purpose of NumPy Random\n",
    "\n",
    "There is a module in numpy called [random](https://numpy.org/doc/stable/reference/random/index.html). The purpose of the numpy random module is to generate random numbers for sampling and testing. \n",
    "\n",
    "The [Numpy Random](https://www.javatpoint.com/numpy-random) module contains the following:\n",
    "\n",
    "1. Simple random data generation methods\n",
    "2. Permutation  functions \n",
    "3. Distribution functions\n",
    "4. Random generator functions\n",
    "\n",
    "<br>"
   ]
  },
  {
   "cell_type": "markdown",
   "id": "f1a8a762",
   "metadata": {},
   "source": [
    "## Importing packages\n",
    "\n",
    "***\n",
    "\n",
    "- First step: import the numpy and the matplotlib.pyplot libraries in order to create and visualise examples of how the numpy random packages works. "
   ]
  },
  {
   "cell_type": "code",
   "execution_count": 1,
   "id": "b1cc6185",
   "metadata": {},
   "outputs": [],
   "source": [
    "# numpy package used for efficent numerical arrays.\n",
    "import numpy as np\n",
    "\n",
    "# importing for plotting data.\n",
    "import matplotlib.pyplot as plt"
   ]
  },
  {
   "cell_type": "markdown",
   "id": "7d3cb92b",
   "metadata": {},
   "source": [
    "<br>\n",
    "\n",
    "- The numpy random package has been updated to version 1.21.0. The [quick start guide](https://numpy.org/doc/stable/reference/random/index.html) reccommends importing and using default_rng in order to get a new instance of the generator. This uses bits provided by PCG64 which has better statistical properties than the legacy version. In other words, this permuted congruential generator [(PCG)](https://en.wikipedia.org/wiki/Permuted_congruential_generator) produces small, fast code with a small state size which allows for better statistical performance.\n",
    "\n",
    "<br>"
   ]
  },
  {
   "cell_type": "code",
   "execution_count": 2,
   "id": "aa24e8a1",
   "metadata": {},
   "outputs": [],
   "source": [
    "# Importing default_rng for more compatibility when using random module. \n",
    "\n",
    "from numpy.random import default_rng\n",
    "rng = default_rng()\n",
    "vals = rng.standard_normal(10)\n",
    "more_vals = rng.standard_normal(10)"
   ]
  },
  {
   "cell_type": "markdown",
   "id": "0fd9b75f",
   "metadata": {},
   "source": [
    "<br>\n",
    "\n",
    "## Style and Design\n",
    "\n",
    "***"
   ]
  },
  {
   "cell_type": "markdown",
   "id": "abd04d95",
   "metadata": {},
   "source": [
    "### ***Magic Commads***\n",
    "- Jupyter notebook code cells contain [magic commads](https://towardsdatascience.com/top-10-magic-commands-in-python-to-boost-your-productivity-1acac061c7a9) which are produced by the IPython kernel in order to affect the behaviour of the notebook. They are usually prefixed by a “%” character. %matplotlib inline is used here to render the plots within the notebook. \n",
    "\n",
    "\n",
    "### ***Plot Style*** \n",
    "- Matplotlib has nearly 30 built-in [plot styles](https://matplotlib.org/stable/api/style_api.html?highlight=plot%20style#module-matplotlib.style) including a default option. Users can customise their own plot style and design. This notebook uses one of the built in designs called: 'fivethirtyeight'.  \n",
    "\n",
    "\n",
    "### ***Figure Size***\n",
    "- This notebook uses matplotlib's [rcparams figure.figsize](https://towardsdatascience.com/change-figure-size-matplotlib-11a409f39584) so that the plots created don't appear too small. This parameter will set all figures created to this size unless otherwise specified.\n",
    "\n",
    "<br>"
   ]
  },
  {
   "cell_type": "code",
   "execution_count": 3,
   "id": "348a177a",
   "metadata": {},
   "outputs": [],
   "source": [
    "# Using magic command to set plots to display inline.\n",
    "%matplotlib inline\n",
    "\n",
    "# Setting plot style. \n",
    "plt.style.use('fivethirtyeight')\n",
    "\n",
    "# Set figure size. \n",
    "plt.rcParams['figure.figsize'] = [12, 8]"
   ]
  },
  {
   "cell_type": "markdown",
   "id": "e7fc368b",
   "metadata": {},
   "source": [
    "<br>\n",
    "\n",
    "# Simple Random Data\n",
    "\n",
    "***\n",
    "\n",
    "[Simple random data](https://en.wikipedia.org/wiki/Simple_random_sample) refers to taking a small random sample from a larger selection. Every individual subset of this simple random sample has the same probability of being chosen. There are 4 different methods of generating simple random data:\n",
    "\n",
    "1. random integers\n",
    "2. random random\n",
    "3. random choice\n",
    "4. random bytes"
   ]
  },
  {
   "cell_type": "markdown",
   "id": "c7aa4f83",
   "metadata": {},
   "source": [
    "<br>\n",
    "\n",
    "## 1.  [Random Integers](https://numpy.org/doc/stable/reference/random/generated/numpy.random.Generator.integers.html#numpy.random.Generator.integers) \n",
    "\n",
    "This method returns random integers in an array using a number of parameters: \n",
    "\n",
    "- low: the lowest value that can be selected must be set. This integer is inclusive.\n",
    "\n",
    "\n",
    "- high: the hightest value must be set. This value is exclusive. For example, a high value of 7 could return any value up until but not including 7. If a high value is not selected, then the default 0 is selected for the lowest value and the chosen integer would be treated as the highest parameter for that array. \n",
    "\n",
    "\n",
    "- size: the default size value reuturns 1 integer unless a specific size is set. \n",
    "\n",
    "\n",
    "- dtype: this describes the data type returned. The default value for this is np.int64 unless otherwise specified. \n",
    "\n",
    "\n",
    "- endpoint: this uses a boolean. When true, it returns a sample from the interval [low, high] inclusive of both those values. The dafault for this is set at false. "
   ]
  },
  {
   "cell_type": "code",
   "execution_count": 4,
   "id": "ce20f5df",
   "metadata": {},
   "outputs": [
    {
     "data": {
      "text/plain": [
       "array([4, 4, 4, 7, 6, 2, 3, 7, 3, 3], dtype=int64)"
      ]
     },
     "execution_count": 4,
     "metadata": {},
     "output_type": "execute_result"
    }
   ],
   "source": [
    "# EXAMPLE 1 adapted from:\n",
    "# https://numpy.org/doc/stable/reference/random/generated/numpy.random.Generator.integers.html#numpy.random.Generator.integers\n",
    "\n",
    "# Set lowest value inclusive at 2.\n",
    "# Set the highest value at 7.\n",
    "# Set the return array size to 10.\n",
    "# Set endpoint to true so that it could include the highest value.\n",
    "\n",
    "rng.integers(2, 7, size=10, endpoint=True)"
   ]
  },
  {
   "cell_type": "code",
   "execution_count": 5,
   "id": "3ce486c9",
   "metadata": {},
   "outputs": [
    {
     "data": {
      "text/plain": [
       "array([88, 78, 79, 13,  0], dtype=int64)"
      ]
     },
     "execution_count": 5,
     "metadata": {},
     "output_type": "execute_result"
    }
   ],
   "source": [
    "# EXAMPLE 2 adapted from:\n",
    "# https://numpy.org/doc/stable/reference/random/generated/numpy.random.Generator.integers.html#numpy.random.Generator.integers\n",
    "\n",
    "# Lowest value defaults to 0.\n",
    "# Highest value set to 100 (exclusive).\n",
    "# Size of array to return = 5.\n",
    "rng.integers(100, size=5)"
   ]
  },
  {
   "cell_type": "code",
   "execution_count": 6,
   "id": "0ec0d5c7",
   "metadata": {},
   "outputs": [
    {
     "data": {
      "text/plain": [
       "260"
      ]
     },
     "execution_count": 6,
     "metadata": {},
     "output_type": "execute_result"
    }
   ],
   "source": [
    "# EXAMPLE 3 adapted from:\n",
    "# https://numpy.org/doc/stable/reference/random/generated/numpy.random.Generator.integers.html#numpy.random.Generator.integers\n",
    "\n",
    "# Set low and highest values. \n",
    "# No size selected so defaults to return 1 value.\n",
    "rng.integers(50, 1000)"
   ]
  },
  {
   "cell_type": "markdown",
   "id": "d3709702",
   "metadata": {},
   "source": [
    "<br>\n",
    "\n",
    "## 2. [Random Random](https://numpy.org/doc/stable/reference/random/generated/numpy.random.Generator.random.html#numpy.random.Generator.random)\n",
    "\n",
    "This method generates random floats in an array with the option of using 3 parameters:\n",
    "\n",
    "- size: refers to the output shape. The first value relfects the number of lines that are returned. The second value determines how many floats to return in each line. If the size is none then it will default to return 1 random float. \n",
    "\n",
    "\n",
    "- dtype: describes the data type. The default value is np.float64.\n",
    "\n",
    "\n",
    "- out: the output can be changed. It must have the same shape as specified in size and it must also match the type of output values. This is known as an ndarray which gives an alternative output array, in which to place the result. "
   ]
  },
  {
   "cell_type": "code",
   "execution_count": 7,
   "id": "1fa9350c",
   "metadata": {},
   "outputs": [
    {
     "data": {
      "text/plain": [
       "0.6027687965332794"
      ]
     },
     "execution_count": 7,
     "metadata": {},
     "output_type": "execute_result"
    }
   ],
   "source": [
    "# EXAMPLE 1 adapted from:\n",
    "# https://numpy.org/doc/stable/reference/random/generated/numpy.random.Generator.random.html#numpy.random.Generator.random\n",
    "\n",
    "# Returns one random float. \n",
    "rng.random() "
   ]
  },
  {
   "cell_type": "code",
   "execution_count": 8,
   "id": "012954be",
   "metadata": {},
   "outputs": [
    {
     "data": {
      "text/plain": [
       "array([[0.91575689, 0.77556128, 0.94572974],\n",
       "       [0.99893307, 0.94903337, 0.56710433],\n",
       "       [0.72050043, 0.50048238, 0.82022862],\n",
       "       [0.68594477, 0.71749386, 0.93261253]])"
      ]
     },
     "execution_count": 8,
     "metadata": {},
     "output_type": "execute_result"
    }
   ],
   "source": [
    "# EXAMPLE 2 adapted from:\n",
    "# https://numpy.org/doc/stable/reference/random/generated/numpy.random.Generator.random.html#numpy.random.Generator.random\n",
    "\n",
    "# Returns 4 lines contain 3 random floats in each.\n",
    "rng.random((4, 3)) "
   ]
  },
  {
   "cell_type": "code",
   "execution_count": 9,
   "id": "213e0c13",
   "metadata": {},
   "outputs": [
    {
     "data": {
      "text/plain": [
       "array([[5.94439703, 0.56269486, 0.89979454],\n",
       "       [0.69073184, 1.86099399, 5.7870281 ],\n",
       "       [2.60554603, 2.40079482, 2.70977702],\n",
       "       [4.59478085, 4.18555504, 4.15548501]])"
      ]
     },
     "execution_count": 9,
     "metadata": {},
     "output_type": "execute_result"
    }
   ],
   "source": [
    "# EXAMPLE 3 adapted from:\n",
    "# https://numpy.org/doc/stable/reference/random/generated/numpy.random.Generator.random.html#numpy.random.Generator.random\n",
    "\n",
    "# Changing the output by multiplying each random float by 6.\n",
    "6 * rng.random((4, 3)) "
   ]
  },
  {
   "cell_type": "markdown",
   "id": "9a3e58f2",
   "metadata": {},
   "source": [
    "<br>\n",
    "\n",
    "## 3. [Random Choice](https://numpy.org/doc/stable/reference/random/generated/numpy.random.Generator.choice.html#numpy.random.Generator.choice)\n",
    "\n",
    "The random choice method allows us to choose random integers from a given 1 dimensional array. \n",
    "\n",
    "Parameters include the following:\n",
    "\n",
    "- a: this will select a random sample from an ndarray. In other words, if multiple arrays are passed into this argument, it will return a random sample of arrays. If an integer is passed into the choice argument,then similar to the numpy arange function, it will return a random sample within a given intervel. \n",
    "\n",
    "\n",
    "- size: The size of the output shape is determined here. The same shape will be returned unless the \"a\" has more than 1 dimension, in which case a size must be specified. The default is none so a single value is returned. \n",
    "\n",
    "\n",
    "- replace: this is a boolean option. If true it means that \"a\" can be used multiple times.\n",
    "\n",
    "\n",
    "- p: refers to the probabilities relating to each entry in \"a\". If not otherwise specified, the random sample assumes a uniform distribution over all entries in \"a\".\n",
    "\n",
    "\n",
    "- axis: this defaults to 0 when selecting by row. It selects the axis in which the random selection should be performed. \n",
    "\n",
    "\n",
    "- shuffle: is also a boolean option. It determines whether the sample is shuffled when sampling without replacement. The default is true. "
   ]
  },
  {
   "cell_type": "code",
   "execution_count": 10,
   "id": "1cd4019d",
   "metadata": {},
   "outputs": [],
   "source": [
    "# EXAMPLE 1 adapted from:\n",
    "# https://numpy.org/doc/stable/reference/random/generated/numpy.random.Generator.choice.html#numpy.random.Generator.choice\n",
    "\n",
    "# This is random selection of integers from 0 up to but not including 5.\n",
    "# 3 asks it to selcet 3 random choices. \n",
    "\n",
    "# uniform sampling.\n",
    "x = rng.choice(4, 3)\n",
    "\n",
    "# non-uniform sampling by giving probabilities. \n",
    "y = rng.choice(4, 3, p=[0.1, 0, 0.3, 0.6])\n",
    "\n",
    "# This could also be done by using the random.integers format: np.random.integers(0, 4, 3)."
   ]
  },
  {
   "cell_type": "code",
   "execution_count": 11,
   "id": "b14170a2",
   "metadata": {},
   "outputs": [
    {
     "data": {
      "text/plain": [
       "(array([3, 0, 2], dtype=int64), array([2, 3, 3], dtype=int64))"
      ]
     },
     "execution_count": 11,
     "metadata": {},
     "output_type": "execute_result"
    }
   ],
   "source": [
    "x, y"
   ]
  },
  {
   "cell_type": "code",
   "execution_count": 12,
   "id": "542c70c4",
   "metadata": {},
   "outputs": [
    {
     "data": {
      "text/plain": [
       "1023"
      ]
     },
     "execution_count": 12,
     "metadata": {},
     "output_type": "execute_result"
    }
   ],
   "source": [
    "# EXAMPLE 2 adapted from:\n",
    "# https://numpy.org/doc/stable/reference/random/generated/numpy.random.Generator.choice.html#numpy.random.Generator.choice\n",
    "\n",
    "# Selects a random integer from 0 up to but not including 5000.\n",
    "rng.choice(5000)"
   ]
  },
  {
   "cell_type": "code",
   "execution_count": 13,
   "id": "7c24f42e",
   "metadata": {},
   "outputs": [
    {
     "data": {
      "text/plain": [
       "array([[12, 13, 14],\n",
       "       [ 3,  4,  5]])"
      ]
     },
     "execution_count": 13,
     "metadata": {},
     "output_type": "execute_result"
    }
   ],
   "source": [
    "# EXAMPLE 3 adapted from:\n",
    "# https://numpy.org/doc/stable/reference/random/generated/numpy.random.Generator.choice.html#numpy.random.Generator.choice\n",
    "\n",
    "# Passing in a multi-dimenstional array.\n",
    "# Will return two random samples of the following arrays.\n",
    "# Set replace to false to ensure it doesn't use choice a more than once. \n",
    "rng.choice([[0, 1, 2], [3, 4, 5], [6, 7, 8], [9, 10, 11], [12, 13, 14]], 2, replace=False)"
   ]
  },
  {
   "cell_type": "markdown",
   "id": "dce926de",
   "metadata": {},
   "source": [
    "<br>\n",
    "\n",
    "## 4. [Random Bytes](https://numpy.org/doc/stable/reference/random/generated/numpy.random.Generator.bytes.html#numpy.random.Generator.bytes)\n",
    "\n",
    "This method is very simple. It returns random bytes of data. It has one parameter:\n",
    "\n",
    "- length: you pass through the length of random bytes you want returned. "
   ]
  },
  {
   "cell_type": "code",
   "execution_count": 14,
   "id": "003fc8b6",
   "metadata": {},
   "outputs": [
    {
     "data": {
      "text/plain": [
       "b'a\\x80\\xef\\xfe\\xf8\\x8b\\xf4x4\\x85-\\xfc\\xe6s0\\xf2\\xf6\\xc8\\xac\\x91'"
      ]
     },
     "execution_count": 14,
     "metadata": {},
     "output_type": "execute_result"
    }
   ],
   "source": [
    "# EXAMPLE 1 adapted from:\n",
    "# https://numpy.org/doc/stable/reference/random/generated/numpy.random.Generator.bytes.html#numpy.random.Generator.bytes\n",
    "\n",
    "# returns 20 random bytes of data. \n",
    "rng.bytes(20)"
   ]
  },
  {
   "cell_type": "code",
   "execution_count": 15,
   "id": "861cbb3b",
   "metadata": {},
   "outputs": [
    {
     "data": {
      "text/plain": [
       "b'\\x8a\\xff\\x19\\x1d\\xc8a\\x1eTCS\"\\xfd\\xca\\xc3\\x16\\xae;\\xe1\\x0e\\\\\\xff\\xad\\xca8\\xc91\\xb7;\\xc7\\x88o\\x10\\r>\\x0b\\x93{\\xa5{\\xab\\xfav\\x1b\\xe1\\xeb\\xd0\\xe9U\\xd6\\xd28\\xda\\x07\\xc0\\'\\x8a@P\\x16\\xe8\\xa3\\xfb\\xb1][Pjg>r\\xd6\\x13\\x18\\xc2o\\x18\\x19\\xe9\"iy=\\xe4\\x98\\r\\x9a,\\x8c/?\\xc2\\x9bwG=+\\x071\\x11y'"
      ]
     },
     "execution_count": 15,
     "metadata": {},
     "output_type": "execute_result"
    }
   ],
   "source": [
    "# EXAMPLE 2 adapted from:\n",
    "# https://numpy.org/doc/stable/reference/random/generated/numpy.random.Generator.bytes.html#numpy.random.Generator.bytes\n",
    "\n",
    "# returns 100 random bytes of data.\n",
    "rng.bytes(100)"
   ]
  },
  {
   "cell_type": "markdown",
   "id": "10e3f50c",
   "metadata": {},
   "source": [
    "<br>\n",
    "\n",
    "# Permutation Functions\n",
    "\n",
    "***\n",
    "[Random permutation](https://en.wikipedia.org/wiki/Random_permutation) is a random ordering of a set of objects. This is crucial in areas such as coding theory, cryptography and simulation, which all use randomisied algorithms. \n",
    "\n",
    "There are three methods of permutation:\n",
    "\n",
    "1. Shuffle\n",
    "2. Permutation\n",
    "3. Permuted"
   ]
  },
  {
   "cell_type": "markdown",
   "id": "0913fc9d",
   "metadata": {},
   "source": [
    "<br>\n",
    "\n",
    "## 1. [Random Shuffle](https://numpy.org/doc/stable/reference/random/generated/numpy.random.Generator.shuffle.html#numpy.random.Generator.shuffle)\n",
    "\n",
    "This method adjusts an array or sequence by shuffling its contents. It will change the order but not the contents. \n",
    "\n",
    "\n",
    "Parameters are:\n",
    "\n",
    "- x: this is the array or sequence that will be passed into the argument. \n",
    "\n",
    "\n",
    "- axis: this is optional and if not selected the default is 0. The purpose of this parameter is to set the axis in which x is shuffled along. "
   ]
  },
  {
   "cell_type": "code",
   "execution_count": 16,
   "id": "3edf8750",
   "metadata": {},
   "outputs": [
    {
     "data": {
      "text/plain": [
       "array([7, 8, 2, 6, 4, 5, 1, 3, 0, 9])"
      ]
     },
     "execution_count": 16,
     "metadata": {},
     "output_type": "execute_result"
    }
   ],
   "source": [
    "# EXAMPLE 1 adapted from:\n",
    "# https://numpy.org/doc/stable/reference/random/generated/numpy.random.Generator.shuffle.html#numpy.random.Generator.shuffle\n",
    "\n",
    "# Using np.arrange to select random integers up to but not including 10.\n",
    "# Shuffle these numbers to alter their sequence in the array.\n",
    "\n",
    "numbers = np.arange(10)\n",
    "rng.shuffle(numbers)\n",
    "numbers "
   ]
  },
  {
   "cell_type": "code",
   "execution_count": 17,
   "id": "48b80582",
   "metadata": {},
   "outputs": [
    {
     "data": {
      "text/plain": [
       "array([[1, 0, 2],\n",
       "       [4, 3, 5],\n",
       "       [7, 6, 8]])"
      ]
     },
     "execution_count": 17,
     "metadata": {},
     "output_type": "execute_result"
    }
   ],
   "source": [
    "# EXAMPLE 2 adapted from:\n",
    "# https://numpy.org/doc/stable/reference/random/generated/numpy.random.Generator.shuffle.html#numpy.random.Generator.shuffle\n",
    "\n",
    "# Creating multi-dimensional arrays to shuffle. \n",
    "# requesting 3 random numbers on 3 lines from 0 up until but not including 9.\n",
    "\n",
    "arr = np.arange(9).reshape((3, 3))\n",
    "rng.shuffle(arr, axis=1)\n",
    "arr"
   ]
  },
  {
   "cell_type": "markdown",
   "id": "2c9d28ba",
   "metadata": {},
   "source": [
    "<br>\n",
    "\n",
    "## 2. [Random Permutation](https://numpy.org/doc/stable/reference/random/generated/numpy.random.Generator.permutation.html#numpy.random.Generator.permutation)\n",
    "\n",
    "This method randomly modifies a sequence or returns a modified range. \n",
    "\n",
    "The parameters are similar to the shuffle method: \n",
    "\n",
    "- x: can be either an integer or an array. If it's an integer it randomly permutes x. If it is an array, it makes a copy and randomly shuffles its elements. \n",
    "\n",
    "\n",
    "- Axis: this is optional and is specified depending on which axis x is to be permuted. Default axis is 0. \n"
   ]
  },
  {
   "cell_type": "code",
   "execution_count": 18,
   "id": "d72b8b3f",
   "metadata": {},
   "outputs": [
    {
     "data": {
      "text/plain": [
       "array([ 3,  5,  7,  0,  4,  8, 14, 10, 11,  9,  1,  6, 13,  2, 12])"
      ]
     },
     "execution_count": 18,
     "metadata": {},
     "output_type": "execute_result"
    }
   ],
   "source": [
    "#EXAMPLE 1 adapted from:\n",
    "# https://numpy.org/doc/stable/reference/random/generated/numpy.random.Generator.permutation.html#numpy.random.Generator.permutation\n",
    "\n",
    "# retunrs a modified range.\n",
    "rng.permutation(15)"
   ]
  },
  {
   "cell_type": "code",
   "execution_count": 19,
   "id": "672bee11",
   "metadata": {},
   "outputs": [
    {
     "data": {
      "text/plain": [
       "array([11,  5,  2, 18, 21])"
      ]
     },
     "execution_count": 19,
     "metadata": {},
     "output_type": "execute_result"
    }
   ],
   "source": [
    "# EXAMPLE 2 adapted from:\n",
    "# https://numpy.org/doc/stable/reference/random/generated/numpy.random.Generator.permutation.html#numpy.random.Generator.permutation\n",
    "\n",
    "# rearranges the array provided.\n",
    "rng.permutation([2, 5, 11, 18, 21])"
   ]
  },
  {
   "cell_type": "code",
   "execution_count": 20,
   "id": "15b17054",
   "metadata": {},
   "outputs": [
    {
     "data": {
      "text/plain": [
       "array([[ 0,  2,  1],\n",
       "       [ 3,  5,  4],\n",
       "       [ 6,  8,  7],\n",
       "       [ 9, 11, 10]])"
      ]
     },
     "execution_count": 20,
     "metadata": {},
     "output_type": "execute_result"
    }
   ],
   "source": [
    "# EXAMPLE 3 adapted from:\n",
    "# https://numpy.org/doc/stable/reference/random/generated/numpy.random.Generator.permutation.html#numpy.random.Generator.permutation\n",
    "\n",
    "# modifies the sequence of 12 integers in 4 arrays containing 3 integers each. \n",
    "example = np.arange(12).reshape((4, 3))\n",
    "rng.permutation(example, axis=1)"
   ]
  },
  {
   "cell_type": "markdown",
   "id": "28f38dcf",
   "metadata": {},
   "source": [
    "<br>\n",
    "\n",
    "## 3. [Random Permuted](https://numpy.org/doc/stable/reference/random/generated/numpy.random.Generator.permuted.html#numpy.random.Generator.permuted)\n",
    "\n",
    "This method is slightly different to shuffle. It shuffles each piece independelty of each other along a given axis. \n",
    "\n",
    "\n",
    "The parameters are as follows:\n",
    "\n",
    "- x: is the array which is to be shuffled.\n",
    "\n",
    "\n",
    "- Axis: this is used to shuffle parts of \"x\" independently of other parts. If the axis is none, the flattened array is shuffled. \n",
    "\n",
    "\n",
    "- Out: this designates the destination of the shuffled array. If \"out\" is none then a shuffled copy of \"x\" is returned. Otherwise, this shuffled array is stored and returned as \"out\". "
   ]
  },
  {
   "cell_type": "code",
   "execution_count": 21,
   "id": "004f5492",
   "metadata": {},
   "outputs": [
    {
     "data": {
      "text/plain": [
       "array([[ 0,  1,  2,  3,  4],\n",
       "       [ 5,  6,  7,  8,  9],\n",
       "       [10, 11, 12, 13, 14],\n",
       "       [15, 16, 17, 18, 19],\n",
       "       [20, 21, 22, 23, 24]])"
      ]
     },
     "execution_count": 21,
     "metadata": {},
     "output_type": "execute_result"
    }
   ],
   "source": [
    "# EXAMPLE 1 adapted from:\n",
    "# https://numpy.org/doc/stable/reference/random/generated/numpy.random.Generator.permuted.html#numpy.random.Generator.permuted\n",
    "\n",
    "# Creating a sample array x.\n",
    "x = np.arange(25).reshape(5, 5)\n",
    "x"
   ]
  },
  {
   "cell_type": "code",
   "execution_count": 22,
   "id": "308ea87d",
   "metadata": {},
   "outputs": [
    {
     "data": {
      "text/plain": [
       "array([[ 0,  2,  4,  3,  1],\n",
       "       [ 9,  7,  5,  8,  6],\n",
       "       [13, 11, 14, 12, 10],\n",
       "       [15, 19, 16, 18, 17],\n",
       "       [22, 24, 21, 23, 20]])"
      ]
     },
     "execution_count": 22,
     "metadata": {},
     "output_type": "execute_result"
    }
   ],
   "source": [
    "# Shuffle the sample array using axis 1 and set this modified array as y.\n",
    "y = rng.permuted(x, axis=1)\n",
    "\n",
    "# Test y.\n",
    "y"
   ]
  },
  {
   "cell_type": "code",
   "execution_count": 23,
   "id": "f1b133a9",
   "metadata": {},
   "outputs": [
    {
     "data": {
      "text/plain": [
       "array([[ 0,  1,  2,  3,  4],\n",
       "       [ 5,  6,  7,  8,  9],\n",
       "       [10, 11, 12, 13, 14],\n",
       "       [15, 16, 17, 18, 19],\n",
       "       [20, 21, 22, 23, 24]])"
      ]
     },
     "execution_count": 23,
     "metadata": {},
     "output_type": "execute_result"
    }
   ],
   "source": [
    "# Test x is still the same array as in the beginning.\n",
    "x"
   ]
  },
  {
   "cell_type": "code",
   "execution_count": 24,
   "id": "b1fc60e1",
   "metadata": {},
   "outputs": [],
   "source": [
    "# Setting y as the shuffled x array and setting the output equal to x also.\n",
    "y = rng.permuted(x, axis=1, out=x)"
   ]
  },
  {
   "cell_type": "code",
   "execution_count": 25,
   "id": "d0ff3757",
   "metadata": {},
   "outputs": [
    {
     "data": {
      "text/plain": [
       "array([[ 4,  0,  3,  2,  1],\n",
       "       [ 6,  5,  8,  9,  7],\n",
       "       [13, 11, 12, 10, 14],\n",
       "       [18, 16, 17, 19, 15],\n",
       "       [20, 22, 24, 23, 21]])"
      ]
     },
     "execution_count": 25,
     "metadata": {},
     "output_type": "execute_result"
    }
   ],
   "source": [
    "# Test y. \n",
    "y"
   ]
  },
  {
   "cell_type": "code",
   "execution_count": 26,
   "id": "c97e131c",
   "metadata": {},
   "outputs": [
    {
     "data": {
      "text/plain": [
       "array([[ 4,  0,  3,  2,  1],\n",
       "       [ 6,  5,  8,  9,  7],\n",
       "       [13, 11, 12, 10, 14],\n",
       "       [18, 16, 17, 19, 15],\n",
       "       [20, 22, 24, 23, 21]])"
      ]
     },
     "execution_count": 26,
     "metadata": {},
     "output_type": "execute_result"
    }
   ],
   "source": [
    "# Test modified x array.\n",
    "x"
   ]
  },
  {
   "cell_type": "code",
   "execution_count": 27,
   "id": "a8e788a3",
   "metadata": {},
   "outputs": [
    {
     "data": {
      "text/plain": [
       "True"
      ]
     },
     "execution_count": 27,
     "metadata": {},
     "output_type": "execute_result"
    }
   ],
   "source": [
    "# Therefore, y and x are now the same arrays. \n",
    "y is x"
   ]
  },
  {
   "cell_type": "markdown",
   "id": "1936b7d6",
   "metadata": {},
   "source": [
    "<br>\n",
    "\n",
    "# Distribution Functions\n",
    "\n",
    "***\n",
    "[Distribution functions](https://www.britannica.com/science/distribution-function) are mathematical expressions that are used to determine the probability of taking on a specific value or set of values. \n",
    "\n",
    "\n",
    "The numpy random library has 36 functions used for distribution. I have selected 5 of these functions and will use matplotlib.pyplot in order to visualise what the distribution looks like.\n"
   ]
  },
  {
   "cell_type": "markdown",
   "id": "11a69872",
   "metadata": {},
   "source": [
    "<br>\n",
    "\n",
    "## 1. [Random Normal](https://numpy.org/doc/stable/reference/random/generated/numpy.random.Generator.normal.html#numpy.random.Generator.normal)\n",
    "\n",
    "***\n",
    "\n",
    "The Random Normal function generates random samples from normal distribution. \n",
    "\n",
    "\n",
    "[Normal distribution](https://www.investopedia.com/terms/n/normaldistribution.asp) is a type of probability distribution that is symmetric around the mean. In other words, it shows that data near the mean is more likely to appear than data further away. When displayed on a plot, normal distribution typically has a bell shaped curve. \n",
    "\n",
    "\n",
    "The parameters for using this function are as follows:\n",
    "\n",
    "\n",
    "- loc: this is a float or an array of floats which determine the mean/centre of the distribution.\n",
    "\n",
    "\n",
    "- scale: can also be a float or array of floats. They cannot be negative floats. The scale displays the standard deviation. In other words, it shows the spread or width of the distribution. \n",
    "\n",
    "\n",
    "- size: the size refers to the output shape. If not specified, it will reutrn a single value by default. Size can either be an integer or a tuple of integers. \n"
   ]
  },
  {
   "cell_type": "code",
   "execution_count": 28,
   "id": "039a1ead",
   "metadata": {},
   "outputs": [],
   "source": [
    "# EXAMPLE adapted from:\n",
    "# https://numpy.org/doc/stable/reference/random/generated/numpy.random.Generator.normal.html#numpy.random.Generator.normal\n",
    "\n",
    "# Mu is set to 0 which is the centre/mean of the distribution.\n",
    "# Sigma refers to the standard deviation/spread of the distribution which is set at 0.1. \n",
    "# 1000 refers to the size of the output.\n",
    "\n",
    "# making x an array which generates 1000 random points that lie close to 0 with a width of 0.1. \n",
    "mu, sigma = 0, 0.1 \n",
    "x = rng.normal(mu, sigma, 1000)"
   ]
  },
  {
   "cell_type": "code",
   "execution_count": 29,
   "id": "5af67e8a",
   "metadata": {},
   "outputs": [],
   "source": [
    "# In the cell below:\n",
    "\n",
    "# Count in each bin is set to x which contains the array of 1000 random points. \n",
    "# Bin width is the left hand edge of each bin which is set to 30.\n",
    "# Patches refers to the individual patches/rectangles used to create the histogram.\n",
    "# Density=True puts a probability curve on the plot.\n",
    "\n",
    "# f contains sample data which divides 1 by:\n",
    "# the standard deviation multiplied by the square root of (2 multiplied by the value of pi)) \n",
    "# multiplied by the negative exponential value of ((bins(30) minus the mean(mu) rasied to the power of 2) \n",
    "# divided by (2 multiplied by the power of the standard deviation(sigma)). "
   ]
  },
  {
   "cell_type": "code",
   "execution_count": 30,
   "id": "3c3b4f8c",
   "metadata": {},
   "outputs": [
    {
     "data": {
      "image/png": "[encoded data removed]",
      "text/plain": [
       "<Figure size 864x576 with 1 Axes>"
      ]
     },
     "metadata": {},
     "output_type": "display_data"
    }
   ],
   "source": [
    "# Plotting the normal distribution on a histogram.\n",
    "\n",
    "count, bins, patches = plt.hist(x, 30, density=True)\n",
    "f = 1/(sigma*np.sqrt(2 * np.pi)) * np.exp(-(bins-mu)**2/(2 * sigma**2))\n",
    "plt.plot(bins, f, linewidth=2)\n",
    "plt.show()"
   ]
  },
  {
   "cell_type": "markdown",
   "id": "43faa711",
   "metadata": {},
   "source": [
    "<br>\n",
    "\n",
    "In this example, the normal distribution is centered around 0 and has a symmetrical shape. \n",
    "\n",
    "As shown in this histogram there is a [density curve](https://www.stats4stem.org/density-curves) which represents the normal distribtion where the outcomes are continuous. \n",
    "\n",
    "<br>\n",
    "\n",
    "***"
   ]
  },
  {
   "cell_type": "markdown",
   "id": "68e2a233",
   "metadata": {},
   "source": [
    "<br>\n",
    "\n",
    "\n",
    "## 2. [Random Uniform](https://numpy.org/doc/stable/reference/random/generated/numpy.random.Generator.uniform.html#numpy.random.Generator.uniform)\n",
    "\n",
    "***\n",
    "\n",
    "The Random uniform function generates samples from a uniform distribution. \n",
    "\n",
    "[Uniform distribution](https://www.investopedia.com/terms/u/uniform-distribution.asp) refers to a type of probability distribution where all outcomes are equally likely. When displayed on a plot they are typically rectangular in shape. \n",
    "\n",
    "\n",
    "Parameters include:\n",
    "\n",
    "- low: can be a float or array of floats. This refers to the lower boundary of the output. In other words, the data generated will be greater or equal to the low value. If not specified the default value is 0.\n",
    "\n",
    "\n",
    "- high: similar to low, this can be a float or array of floats. It cannot be a negative float. If not specified the default value is 1.0. The values created will be less than high. \n",
    "\n",
    "\n",
    "- size: this determines the output shape of the samples. It can be an integer or tuple of integers. The default returns a single value. "
   ]
  },
  {
   "cell_type": "code",
   "execution_count": 31,
   "id": "fc7180b0",
   "metadata": {},
   "outputs": [],
   "source": [
    "# EXAMPLE adapted from:\n",
    "# https://numpy.org/doc/stable/reference/random/generated/numpy.random.Generator.uniform.html#numpy.random.Generator.uniform\n",
    "\n",
    "# -1 refers to the low boundary - output value will be greater or equal to -1.\n",
    "# 0 is the high boundary - output will be less than 0.\n",
    "# 1000 refers to the size of the output.\n",
    "\n",
    "# Making object y which generates 1000 random points between -1 and 0 in uniform distribution.\n",
    "\n",
    "y = rng.uniform(-1,0,1000)"
   ]
  },
  {
   "cell_type": "code",
   "execution_count": 32,
   "id": "548c5b31",
   "metadata": {},
   "outputs": [
    {
     "data": {
      "image/png": "[encoded data removed]",
      "text/plain": [
       "<Figure size 864x576 with 1 Axes>"
      ]
     },
     "metadata": {},
     "output_type": "display_data"
    }
   ],
   "source": [
    "# Creating a histogram to display uniform distribution.\n",
    "\n",
    "# Count in each bin is set to y which contains the array of 1000 random points. \n",
    "# Bin width is the left hand edge of each bin which is set to 1.\n",
    "# Density=True puts a probability curve on the plot.\n",
    "# np.ones_like returns an array of the same shape and type of bins.\n",
    "\n",
    "\n",
    "count, bins, ignored = plt.hist(y, 15, density=True)\n",
    "plt.plot(bins, np.ones_like(bins), linewidth=2, color='r')\n",
    "plt.show()"
   ]
  },
  {
   "cell_type": "markdown",
   "id": "d82ed0fa",
   "metadata": {},
   "source": [
    "<br>\n",
    "\n",
    "This histogram displays uniform distribution. As shown, every point between -1 and 0 has an equal opportunity of appearing. The density curve shows the probability that all outcomes are equally likely.\n",
    "\n",
    "<br>\n",
    "\n",
    "***"
   ]
  },
  {
   "cell_type": "markdown",
   "id": "6aea6781",
   "metadata": {},
   "source": [
    "<br>\n",
    "\n",
    "\n",
    "## 3. [Random Power](https://numpy.org/doc/stable/reference/random/generated/numpy.random.Generator.power.html#numpy.random.Generator.power)\n",
    "\n",
    "***\n",
    "\n",
    "The Random Power Function is used to create samples using power law distribution.\n",
    "\n",
    "[Power law distribution](https://en.wikipedia.org/wiki/Power_law) refers to the functional relationship between two variables. In other words, when there is a relative change in one, there is a proportional relative change in the other. One of the variables acts as a power of the other despite their initial values. The curve of power distribution takes an backwards l-shape.\n",
    "\n",
    "Parameters are as follows:\n",
    "\n",
    "- a: refers to a float or array of floats which must be positive numbers. It gives the limit of the distribution.\n",
    "\n",
    "\n",
    "- size: can either be a integer or tuple of integers and gives the output shape. If not specified the default size will return a single value. \n"
   ]
  },
  {
   "cell_type": "code",
   "execution_count": 33,
   "id": "35edc343",
   "metadata": {},
   "outputs": [],
   "source": [
    "# EXAMPLE adapted from:\n",
    "# https://numpy.org/doc/stable/reference/random/generated/numpy.random.Generator.power.html#numpy.random.Generator.power\n",
    "\n",
    "# Set parameter of power distribution.\n",
    "# And pass in 1000 random samples.\n",
    "a = 5.0 # shape\n",
    "samples = 1000\n",
    "s = rng.power(a, samples)"
   ]
  },
  {
   "cell_type": "code",
   "execution_count": 34,
   "id": "3dc32180",
   "metadata": {},
   "outputs": [
    {
     "data": {
      "image/png": "[encoded data removed]",
      "text/plain": [
       "<Figure size 864x576 with 1 Axes>"
      ]
     },
     "metadata": {},
     "output_type": "display_data"
    }
   ],
   "source": [
    "# Count set to s.\n",
    "# Select bin width 35.\n",
    "# Use np.linespace to return 100 evenly spaced numbers from 0 to 1.\n",
    "# Set y to a multiplied by x to the power of a minus 1.0.\n",
    "# Use np.diff to calculate the number of times the values are differenced.\n",
    "\n",
    "count, bins, ignored = plt.hist(s, bins=35)\n",
    "x = np.linspace(0, 1, 100)\n",
    "y = a*x**(a-1.0)\n",
    "normed_y = samples*np.diff(bins)[0]*y\n",
    "plt.plot(x, normed_y)\n",
    "plt.show()"
   ]
  },
  {
   "cell_type": "markdown",
   "id": "7fb2b801",
   "metadata": {},
   "source": [
    "<br>\n",
    "\n",
    "As displayed in this plot, there is a backwards l-shape describing the power law distribution of this random sample. \n",
    "\n",
    "<br>\n",
    "\n",
    "***"
   ]
  },
  {
   "cell_type": "markdown",
   "id": "6c7b575c",
   "metadata": {},
   "source": [
    "<br>\n",
    "\n",
    "## 4. [Random Geometric](https://numpy.org/doc/stable/reference/random/generated/numpy.random.Generator.geometric.html#numpy.random.Generator.geometric)\n",
    "\n",
    "***\n",
    "\n",
    "This Geometric Function generates samples from geometric distribution. \n",
    "\n",
    "[Geometric distribution](https://www.cuemath.com/geometric-distribution-formula/) gives a distinct probability of the number of successive failures, before a success is achieved in a Bernoulli trial. A [Bernoulli trail](https://en.wikipedia.org/wiki/Bernoulli_trial) refers to an experiment that only has 2 potential outcomes. The experiment will either be a success or a failure. \n",
    "\n",
    "There are 2 parameters for this function:\n",
    "\n",
    "- p: which represents the possibility of success of an individual trial. This can be a float or array of floats.\n",
    "\n",
    "\n",
    "- size: can be an integer or tuple of integers which determines the output shape of the distribution. \n"
   ]
  },
  {
   "cell_type": "code",
   "execution_count": 35,
   "id": "7f38ab02",
   "metadata": {},
   "outputs": [
    {
     "data": {
      "text/plain": [
       "array([1, 1, 1, ..., 1, 4, 2], dtype=int64)"
      ]
     },
     "execution_count": 35,
     "metadata": {},
     "output_type": "execute_result"
    }
   ],
   "source": [
    "# EXAMPLE adapted from:\n",
    "# https://numpy.org/doc/stable/reference/random/generated/numpy.random.Generator.geometric.html#numpy.random.Generator.geometric\n",
    "\n",
    "# Generate 40000 values from the geometric distribution.\n",
    "# Set probability of success to 0.45.\n",
    "z = rng.geometric(p=0.45, size=40000)\n",
    "z"
   ]
  },
  {
   "cell_type": "code",
   "execution_count": 36,
   "id": "8f6276a0",
   "metadata": {},
   "outputs": [
    {
     "data": {
      "text/plain": [
       "0.3489"
      ]
     },
     "execution_count": 36,
     "metadata": {},
     "output_type": "execute_result"
    }
   ],
   "source": [
    "# Return how many trials were successful after a single run. \n",
    "(z == 1).sum() / 40000.\n",
    "0.34889999999999999 "
   ]
  },
  {
   "cell_type": "markdown",
   "id": "08bfd0a7",
   "metadata": {},
   "source": [
    "<br>\n",
    "\n",
    "This example returned an ndarray showing the geometric distribution of the samples generated with these parameters.  \n",
    "\n",
    "<br>\n",
    "\n",
    "\n",
    "***"
   ]
  },
  {
   "cell_type": "markdown",
   "id": "e5874fd1",
   "metadata": {},
   "source": [
    "<br>\n",
    "\n",
    "## 5. [Random Gumbel](https://numpy.org/doc/stable/reference/random/generated/numpy.random.Generator.gumbel.html#numpy.random.Generator.gumbel)\n",
    "\n",
    "***\n",
    "\n",
    "The Gumbel Function is used for Generalized Extreme Value (GEV) distribution also known as [Gumbel distribution](https://en.wikipedia.org/wiki/Gumbel_distribution). This was named in honor of [Emil Julius Gumbel](https://en.wikipedia.org/wiki/Emil_Julius_Gumbel) (1891–1966). Gumbel was a German mathematician and political writer who published a book on statistics of extremes in 1958. \n",
    "\n",
    "This function is used to simulate the extreme value in a probability distribution. This extreme is either very small or very large value and is displayed in the tails of the distribution. \n",
    "\n",
    "\n",
    "The parameters of this function are:\n",
    "\n",
    "- loc: which is a float or array of floats. The default is 0. This condition determines the loaction of the distribution. \n",
    "\n",
    "\n",
    "- scale: must be a positive float or array of floats. This demonstrates the scale of the distribution. \n",
    "\n",
    "\n",
    "- size: can be an integer or tuple of integers which illustrates the output shape. If not specified, a single value is returned. "
   ]
  },
  {
   "cell_type": "code",
   "execution_count": 37,
   "id": "a14f8cee",
   "metadata": {},
   "outputs": [],
   "source": [
    "# EXAMPLE adapted from:\n",
    "# https://numpy.org/doc/stable/reference/random/generated/numpy.random.Generator.gumbel.html#numpy.random.Generator.gumbel\n",
    "\n",
    "# Set mu to 0 as the mean/centre of distribution - the location.\n",
    "# Set beta to 0.1 as the continous random variable - the scale.\n",
    "\n",
    "mu, beta = 0, 0.1 \n",
    "s = rng.gumbel(mu, beta, 1000)"
   ]
  },
  {
   "cell_type": "code",
   "execution_count": 38,
   "id": "9d3f5956",
   "metadata": {},
   "outputs": [
    {
     "data": {
      "image/png": "[encoded data removed]",
      "text/plain": [
       "<Figure size 864x576 with 1 Axes>"
      ]
     },
     "metadata": {},
     "output_type": "display_data"
    }
   ],
   "source": [
    "# setting r to show the gumbel distribution by:\n",
    "# diving 1 by 0.1 then multiplying it by the negative exponential value of bins minus mu divided by beta\n",
    "# then multiplying that by the exponential value of the negative exponential value of bins minus mu divided by beta\n",
    "\n",
    "count, bins, ignored = plt.hist(s, 30, density=True)\n",
    "r = (1/beta)*np.exp(-(bins-mu)/beta)*np.exp(-np.exp(-(bins-mu)/beta))\n",
    "plt.plot(bins, r, linewidth=2)\n",
    "plt.show()"
   ]
  },
  {
   "cell_type": "markdown",
   "id": "139184c8",
   "metadata": {},
   "source": [
    "<br>\n",
    "\n",
    "As displayed the lower tail on the left shows the low extreme value of the random variable deviating and the upper tail on the right shows the highest extreme value of the random variable deviating. In other words, this plot is displaying the probability of distribution of a random variable.\n",
    "\n",
    "<br>\n",
    "\n",
    "***"
   ]
  },
  {
   "cell_type": "markdown",
   "id": "543b86ce",
   "metadata": {},
   "source": [
    "<br>\n",
    "\n",
    "# Random Seed\n",
    "\n",
    "***\n",
    "\n",
    "The [Bit Generator](https://numpy.org/doc/stable/reference/random/bit_generators/generated/numpy.random.BitGenerator.html#numpy.random.BitGenerator) in the numpy random module is what produces all the random bits of data. It does this by using different algorithms which pull random values from the Operating System (OS). The bit generator will randomly choose a start point when generating this data. This value will never be the same unless a condition is set. This condition is the seed.\n",
    "\n",
    "\n",
    "[Random Seed](https://numpy.org/doc/stable/reference/random/generated/numpy.random.seed.html?highlight=seed#numpy.random.seed) is a funciton within the numpy random module that is used to set the initial starting value when generating random numbers. In other words, the [seed](https://www.geeksforgeeks.org/random-seed-in-python/) saves the state of a random function. The advantage of setting the starting point is that it will produce the same random data after multiple executions of the code. Therefore, it doesn't matter what machine the user is working from because the bit generator will start generating random data at the same start point each time. \n",
    "\n",
    "<br>"
   ]
  },
  {
   "cell_type": "code",
   "execution_count": 39,
   "id": "ab455b65",
   "metadata": {},
   "outputs": [
    {
     "data": {
      "text/plain": [
       "39"
      ]
     },
     "execution_count": 39,
     "metadata": {},
     "output_type": "execute_result"
    }
   ],
   "source": [
    "#EXAMPLE 1 adapted from:\n",
    "# https://www.geeksforgeeks.org/random-seed-in-python/\n",
    "\n",
    "# This will return a different random integer each time code is run.\n",
    "np.random.randint(50)"
   ]
  },
  {
   "cell_type": "code",
   "execution_count": 40,
   "id": "e2d9f686",
   "metadata": {},
   "outputs": [
    {
     "data": {
      "text/plain": [
       "37"
      ]
     },
     "execution_count": 40,
     "metadata": {},
     "output_type": "execute_result"
    }
   ],
   "source": [
    "# EXAMPLE 2 adapted from:\n",
    "# https://www.geeksforgeeks.org/random-seed-in-python/\n",
    "\n",
    "# This will return same random integer each time becasue seed has been set.\n",
    "np.random.seed(1)\n",
    "np.random.randint(50)"
   ]
  },
  {
   "cell_type": "markdown",
   "id": "44a87594",
   "metadata": {},
   "source": [
    "## The use of Seed in generating Pseudorandom Numbers\n",
    "\n",
    "[Pseudorandom numbers](https://www.pcmag.com/encyclopedia/term/pseudo-random-numbers) are a set of values that are statistically random but are derived from a known starting point. In other words, these numbers are pre-determined because the initial value is known. \n",
    "\n",
    "The [advantages](https://en.wikipedia.org/wiki/Pseudorandom_number_generator) of pseudorandom number generator is that it speeds up the number generation process and allows predictability which is important when dealing with simulations, electronic games and cryptography to name a few. \n",
    "\n",
    "Furthermore, [pseudorandom numbers](https://towardsdatascience.com/how-to-use-random-seeds-effectively-54a4cd855a79#:~:text=A%20random%20seed%20is%20used,get%20the%20exact%20same%20outputs.&text=In%20addition%20to%20reproducibility%2C%20random,important%20for%20bench%2Dmarking%20results.) ensure that results are reproducible. Therefore, a seed must be set. Setting a seed is [fundamental](https://stats.stackexchange.com/questions/354373/what-exactly-is-a-seed-in-a-random-number-generator) in generating pseudorandom numbers as it fixes the starting point in order to reproduce the same random data over and over again.  \n",
    "\n",
    "<br>\n",
    "\n",
    "***"
   ]
  },
  {
   "cell_type": "markdown",
   "id": "f410b89a",
   "metadata": {},
   "source": [
    "<br>\n",
    "\n",
    "# Conclusion\n",
    "\n",
    "***\n",
    "\n",
    "This notebook has displayed that the numpy random package is quite comprehensive. This package allows users to generate random data using mathematical and logical operations on arrays. Using simple random methods generates a small random sample. Permutation functions rearrange and randomly order data. Distribution functions work by predicting the probability of taking on a specific value. And finally, the seed value allows users to set an intial starting point in order to produce pseudorandom numbers which are vital for analysis.   \n",
    "\n",
    "\n",
    "Therefore, it is fair to say that the numpy random package is a powerful and efficent resource for [data analysts](https://www.getsmarter.com/blog/career-advice/data-analysis-important-business/#:~:text=Data%20analysis%20is%20important%20in,provides%20context%20for%20the%20data.) as it allows them to organise, intrepret and present data into useful information. \n",
    "\n",
    "<br>\n",
    "\n",
    "***"
   ]
  },
  {
   "cell_type": "markdown",
   "id": "c602b107",
   "metadata": {},
   "source": [
    "# References\n",
    "\n",
    "***\n",
    "\n",
    "All references and code used in this notebook have been sourced in Oct/Nov 2021 from the following webpages:\n",
    "\n",
    "\n",
    "- https://numpy.org/doc/stable/reference/random/index.html\n",
    "\n",
    "\n",
    "- https://numpy.org/doc/stable/reference/random/index.html#random-quick-start \n",
    "\n",
    "\n",
    "- https://numpy.org/doc/stable/user/whatisnumpy.html \n",
    "\n",
    "\n",
    "- https://towardsdatascience.com/tagged/arrays\n",
    "\n",
    "\n",
    "- https://www.javatpoint.com/numpy-random\n",
    "\n",
    "\n",
    "- https://towardsdatascience.com/change-figure-size-matplotlib-11a409f39584\n",
    "\n",
    "\n",
    "- https://matplotlib.org/stable/api/matplotlib_configuration_api.html#matplotlib.RcParams\n",
    "\n",
    "\n",
    "- https://matplotlib.org/stable/gallery/style_sheets/style_sheets_reference.html\n",
    "\n",
    "\n",
    "- https://stackoverflow.com/questions/43027980/purpose-of-matplotlib-inline\n",
    "\n",
    "\n",
    "- https://towardsdatascience.com/top-10-magic-commands-in-python-to-boost-your-productivity-1acac061c7a9\n",
    "\n",
    "\n",
    "- https://numpy.org/doc/stable/reference/random/generated/numpy.random.Generator.integers.html#numpy.random.Generator.integers\n",
    "\n",
    "\n",
    "- https://numpy.org/doc/stable/reference/random/generated/numpy.random.Generator.random.html#numpy.random.Generator.random\n",
    "\n",
    "\n",
    "- https://numpy.org/doc/stable/reference/random/generated/numpy.random.Generator.choice.html#numpy.random.Generator.choice\n",
    "\n",
    "\n",
    "- https://numpy.org/doc/stable/reference/random/generated/numpy.random.Generator.bytes.html#numpy.random.Generator.bytes\n",
    "\n",
    "\n",
    "- https://en.wikipedia.org/wiki/Random_permutation\n",
    "\n",
    "\n",
    "- https://numpy.org/doc/stable/reference/random/generated/numpy.random.Generator.shuffle.html#numpy.random.Generator.shuffle\n",
    "\n",
    "\n",
    "- https://numpy.org/doc/stable/reference/random/generated/numpy.random.Generator.permutation.html#numpy.random.Generator.permutation\n",
    "\n",
    "\n",
    "- https://numpy.org/doc/stable/reference/random/generated/numpy.random.Generator.permuted.html#numpy.random.Generator.permuted\n",
    "\n",
    "\n",
    "- https://www.britannica.com/science/distribution-function\n",
    "\n",
    "\n",
    "- https://numpy.org/doc/stable/reference/random/generated/numpy.random.Generator.normal.html#numpy.random.Generator.normal\n",
    "\n",
    "\n",
    "- https://www.investopedia.com/terms/n/normaldistribution.asp\n",
    "\n",
    "\n",
    "- https://www.stats4stem.org/density-curves\n",
    "\n",
    "\n",
    "- https://matplotlib.org/stable/api/_as_gen/matplotlib.pyplot.hist.html\n",
    "\n",
    "\n",
    "- https://stackoverflow.com/questions/23773131/what-are-n-bins-and-patches-in-matplotlib\n",
    "\n",
    "\n",
    "- https://realpython.com/python-operators-expressions/\n",
    "\n",
    "\n",
    "- https://www.geeksforgeeks.org/numpy-sqrt-in-python/\n",
    "\n",
    "\n",
    "- https://numpy.org/doc/stable/reference/random/generated/numpy.random.Generator.uniform.html#numpy.random.Generator.uniform\n",
    "\n",
    "\n",
    "- https://www.investopedia.com/terms/u/uniform-distribution.asp\n",
    "\n",
    "\n",
    "- https://numpy.org/doc/stable/reference/generated/numpy.ones_like.html\n",
    "\n",
    "\n",
    "- https://numpy.org/doc/stable/reference/random/generated/numpy.random.Generator.power.html#numpy.random.Generator.power\n",
    "\n",
    "\n",
    "- https://en.wikipedia.org/wiki/Power_law\n",
    "\n",
    "\n",
    "- https://numpy.org/doc/stable/reference/generated/numpy.linspace.html\n",
    "\n",
    "\n",
    "- https://numpy.org/doc/stable/reference/generated/numpy.diff.html\n",
    "\n",
    "\n",
    "- https://numpy.org/doc/stable/reference/random/generated/numpy.random.Generator.geometric.html#numpy.random.Generator.geometric\n",
    "\n",
    "\n",
    "- https://www.cuemath.com/geometric-distribution-formula/\n",
    "\n",
    "\n",
    "- https://en.wikipedia.org/wiki/Bernoulli_trial\n",
    "\n",
    "\n",
    "- https://numpy.org/doc/stable/reference/random/generated/numpy.random.Generator.gumbel.html#numpy.random.Generator.gumbel\n",
    "\n",
    "\n",
    "- https://en.wikipedia.org/wiki/Gumbel_distribution\n",
    "\n",
    "\n",
    "- https://en.wikipedia.org/wiki/Emil_Julius_Gumbel\n",
    "\n",
    "\n",
    "- https://www.statisticshowto.com/upper-tail-and-lower-tail/\n",
    "\n",
    "\n",
    "- https://numpy.org/doc/stable/reference/random/generated/numpy.random.seed.html?highlight=seed#numpy.random.seed\n",
    "\n",
    "\n",
    "- https://numpy.org/doc/stable/reference/random/bit_generators/generated/numpy.random.BitGenerator.html#numpy.random.BitGenerator\n",
    "\n",
    "\n",
    "- https://www.geeksforgeeks.org/random-seed-in-python/\n",
    "\n",
    "\n",
    "- https://www.pcmag.com/encyclopedia/term/pseudo-random-numbers\n",
    "\n",
    "\n",
    "- https://en.wikipedia.org/wiki/Pseudorandom_number_generator\n",
    "\n",
    "\n",
    "- https://towardsdatascience.com/how-to-use-random-seeds-effectively-54a4cd855a79#:~:text=A%20random%20seed%20is%20used,get%20the%20exact%20same%20outputs.&text=In%20addition%20to%20reproducibility%2C%20random,important%20for%20bench%2Dmarking%20results.\n",
    "\n",
    "\n",
    "- https://stats.stackexchange.com/questions/354373/what-exactly-is-a-seed-in-a-random-number-generator\n",
    "\n",
    "\n",
    "- https://towardsdatascience.com/lets-talk-about-numpy-for-datascience-beginners-b8088722309f\n",
    "\n",
    "\n",
    "- https://www.getsmarter.com/blog/career-advice/data-analysis-important-business/#:~:text=Data%20analysis%20is%20important%20in,provides%20context%20for%20the%20data.\n",
    "\n",
    "\n",
    "- https://en.wikipedia.org/wiki/Simple_random_sample\n",
    "\n",
    "\n",
    "- https://en.wikipedia.org/wiki/Permuted_congruential_generator\n",
    "\n",
    "\n",
    "- https://matplotlib.org/stable/api/style_api.html?highlight=plot%20style#module-matplotlib.style\n",
    "\n",
    "\n",
    "<br>"
   ]
  },
  {
   "cell_type": "markdown",
   "id": "5cd8b117",
   "metadata": {},
   "source": [
    "***\n",
    "# End"
   ]
  }
 ],
 "metadata": {
  "kernelspec": {
   "display_name": "Python 3",
   "language": "python",
   "name": "python3"
  },
  "language_info": {
   "codemirror_mode": {
    "name": "ipython",
    "version": 3
   },
   "file_extension": ".py",
   "mimetype": "text/x-python",
   "name": "python",
   "nbconvert_exporter": "python",
   "pygments_lexer": "ipython3",
   "version": "3.8.8"
  }
 },
 "nbformat": 4,
 "nbformat_minor": 5
}
