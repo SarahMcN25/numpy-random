{
 "cells": [
  {
   "cell_type": "markdown",
   "id": "7578c1d6",
   "metadata": {},
   "source": [
    "# The Numpy Random Package\n",
    "\n",
    "\n",
    "[Official documentation](https://numpy.org/doc/stable/reference/random/index.html)\n",
    "\n",
    "***"
   ]
  },
  {
   "cell_type": "code",
   "execution_count": 1,
   "id": "b1cc6185",
   "metadata": {},
   "outputs": [],
   "source": [
    "# numpy package used for efficent numerical arrays\n",
    "import numpy as np\n",
    "\n",
    "# importing for plotting data\n",
    "import matplotlib.pyplot as plt"
   ]
  },
  {
   "cell_type": "code",
   "execution_count": null,
   "id": "a61224f7",
   "metadata": {},
   "outputs": [],
   "source": []
  },
  {
   "cell_type": "markdown",
   "id": "4d9e2451",
   "metadata": {},
   "source": [
    "numpy package changed. see quick start guide\n",
    "\n",
    "https://numpy.org/doc/stable/reference/random/index.html#random-quick-start"
   ]
  },
  {
   "cell_type": "code",
   "execution_count": null,
   "id": "31453da4",
   "metadata": {},
   "outputs": [],
   "source": []
  },
  {
   "cell_type": "markdown",
   "id": "11a69872",
   "metadata": {},
   "source": [
    "<br>\n",
    "\n",
    "## numpy.random.normal\n",
    "\n",
    "https://numpy.org/doc/stable/reference/random/generated/numpy.random.normal.html\n",
    "https://numpy.org/doc/stable/reference/random/generated/numpy.random.Generator.normal.html#numpy.random.Generator.normal\n",
    "***"
   ]
  },
  {
   "cell_type": "code",
   "execution_count": 2,
   "id": "934eaff7",
   "metadata": {},
   "outputs": [],
   "source": [
    "# The parameters for random.normal are loc, scale and size"
   ]
  },
  {
   "cell_type": "code",
   "execution_count": 3,
   "id": "039a1ead",
   "metadata": {},
   "outputs": [],
   "source": [
    "# In the cell below:\n",
    "# 0 refers to the centre/mean of the distribution\n",
    "# 0.1 refers to the spread of the distribution\n",
    "# 1000 refers to the size of the output."
   ]
  },
  {
   "cell_type": "code",
   "execution_count": 4,
   "id": "0cceb8af",
   "metadata": {},
   "outputs": [],
   "source": [
    "# making an object x which generates 1000 random points that lie close to 0 with a width of 0.1. \n",
    "mu, sigma = 0, 0.1 # mean and standard deviation\n",
    "x = np.random.default_rng().normal(mu, sigma, 1000)"
   ]
  },
  {
   "cell_type": "markdown",
   "id": "70a33e1c",
   "metadata": {},
   "source": [
    "Normal distribution is a type of probability distribution that is symmetric about the mean. In other word it shows that data near the mean are more likely to appear than data further away. \n",
    "\n",
    "When displayed on a plot normal distribution tpyically has a bell curve. \n",
    "\n",
    "In this example, the normal distribution is centered around 0 and has a symetrical shape. \n",
    "\n",
    "[Reference 1](https://www.investopedia.com/terms/n/normaldistribution.asp)"
   ]
  },
  {
   "cell_type": "code",
   "execution_count": 14,
   "id": "3c3b4f8c",
   "metadata": {},
   "outputs": [
    {
     "data": {
      "image/png": "[encoded data removed]",
      "text/plain": [
       "<Figure size 432x288 with 1 Axes>"
      ]
     },
     "metadata": {
      "needs_background": "light"
     },
     "output_type": "display_data"
    }
   ],
   "source": [
    "# Plotting the normal distribution on a histogram\n",
    "count, bins, patches = plt.hist(x, 30, density=True)\n",
    "f = 1/(sigma*np.sqrt(2 * np.pi)) * np.exp(-(bins-mu)**2/(2 * sigma**2))\n",
    "plt.plot(bins, f, linewidth=2)\n",
    "plt.show()"
   ]
  },
  {
   "cell_type": "code",
   "execution_count": null,
   "id": "92a400a2",
   "metadata": {},
   "outputs": [],
   "source": []
  },
  {
   "cell_type": "markdown",
   "id": "54fd47ab",
   "metadata": {},
   "source": [
    "breaking it down:\n",
    "https://matplotlib.org/stable/api/_as_gen/matplotlib.pyplot.hist.html\n",
    "\n",
    "https://numpy.org/doc/stable/reference/generated/numpy.histogram_bin_edges.html#numpy.histogram_bin_edges\n",
    "\n",
    "- Bins can be integars, sequence or strings. \n",
    "\n",
    "        - If the bin is an integer it indicates the number of equal-width bins in the range on the x-axis. \n",
    "        \n",
    "        - If the bin is a sequence it outlines the bin edges from left to right and can be uneven.\n",
    "        \n",
    "        - If the bin is a string it uses a chosen method to give the optimal bin width. Methods include auto, fd, doane, scott, stone, rice, sturges or sqrt. Auto is reccommended for a good overall performance. \n",
    "\n",
    "- In this plot the integer 30 is used for bin width.  \n",
    "\n",
    "<br>"
   ]
  },
  {
   "cell_type": "markdown",
   "id": "8777097e",
   "metadata": {},
   "source": [
    "- As we can also see in this histogram I have added a density curve. This curve represents the normal distribtion where the outcomes are continous. \n",
    "\n",
    "https://www.stats4stem.org/density-curves"
   ]
  },
  {
   "cell_type": "markdown",
   "id": "68e2a233",
   "metadata": {},
   "source": [
    "<br>\n",
    "\n",
    "## numpy.random.uniform\n",
    "\n",
    "https://numpy.org/doc/stable/reference/random/generated/numpy.random.Generator.uniform.html#numpy.random.Generator.uniform\n",
    "\n",
    "***"
   ]
  },
  {
   "cell_type": "code",
   "execution_count": 6,
   "id": "9558ac93",
   "metadata": {},
   "outputs": [],
   "source": [
    "# New format includes .default_rng"
   ]
  },
  {
   "cell_type": "code",
   "execution_count": null,
   "id": "c8e26ad0",
   "metadata": {},
   "outputs": [],
   "source": []
  },
  {
   "cell_type": "code",
   "execution_count": 7,
   "id": "bd716ea9",
   "metadata": {},
   "outputs": [],
   "source": [
    "# The parameters for random.uniform are low, high and size"
   ]
  },
  {
   "cell_type": "code",
   "execution_count": 8,
   "id": "d99ee45a",
   "metadata": {},
   "outputs": [],
   "source": [
    "# In the cell below:\n",
    "# -1 refers to the low boundary - basically meaning that the output value will be greater or equal to -1.\n",
    "# 0 is the high boundary - meaning that the output will be less than 0\n",
    "# 1000 refers to the size of the output."
   ]
  },
  {
   "cell_type": "code",
   "execution_count": 9,
   "id": "fc7180b0",
   "metadata": {},
   "outputs": [],
   "source": [
    "# Making object y which generates 1000 random points between -1 and 0 in uniform distribution\n",
    "\n",
    "y = np.random.default_rng().uniform(-1,0,1000)"
   ]
  },
  {
   "cell_type": "markdown",
   "id": "6ec7af62",
   "metadata": {},
   "source": [
    "Uniform distribution refers to a type of probability distribution where all outcomes are equally likely.\n",
    "\n",
    "When displayed on a plot they are typically rectangular in shape. \n",
    "\n",
    "In this example, it means that every point between -1 and 0 has an equal opportunity of appearing. "
   ]
  },
  {
   "cell_type": "markdown",
   "id": "b8a07309",
   "metadata": {},
   "source": [
    "REF FOUND HERE https://www.investopedia.com/terms/u/uniform-distribution.asp"
   ]
  },
  {
   "cell_type": "code",
   "execution_count": 10,
   "id": "548c5b31",
   "metadata": {},
   "outputs": [
    {
     "data": {
      "image/png": "[encoded data removed]",
      "text/plain": [
       "<Figure size 432x288 with 1 Axes>"
      ]
     },
     "metadata": {
      "needs_background": "light"
     },
     "output_type": "display_data"
    }
   ],
   "source": [
    "# Creating a histogram to display uniform distribution.\n",
    "count, bins, ignored = plt.hist(y, 15, density=True)\n",
    "plt.plot(bins, np.ones_like(bins), linewidth=2, color='r')\n",
    "plt.show()"
   ]
  },
  {
   "cell_type": "markdown",
   "id": "3b949f33",
   "metadata": {},
   "source": [
    "<br>\n",
    "\n",
    "***"
   ]
  },
  {
   "cell_type": "code",
   "execution_count": null,
   "id": "5eae310b",
   "metadata": {},
   "outputs": [],
   "source": []
  },
  {
   "cell_type": "markdown",
   "id": "c602b107",
   "metadata": {},
   "source": [
    "# References\n",
    "\n",
    "***\n",
    "\n",
    "1. \n",
    "\n",
    "2. \n",
    "\n",
    "3. \n",
    "\n",
    "4. "
   ]
  },
  {
   "cell_type": "markdown",
   "id": "5cd8b117",
   "metadata": {},
   "source": [
    "***\n",
    "# The End"
   ]
  }
 ],
 "metadata": {
  "kernelspec": {
   "display_name": "Python 3",
   "language": "python",
   "name": "python3"
  },
  "language_info": {
   "codemirror_mode": {
    "name": "ipython",
    "version": 3
   },
   "file_extension": ".py",
   "mimetype": "text/x-python",
   "name": "python",
   "nbconvert_exporter": "python",
   "pygments_lexer": "ipython3",
   "version": "3.8.8"
  }
 },
 "nbformat": 4,
 "nbformat_minor": 5
}
